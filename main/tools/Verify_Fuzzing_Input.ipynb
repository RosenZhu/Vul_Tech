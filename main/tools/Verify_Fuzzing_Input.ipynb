{
 "cells": [
  {
   "cell_type": "code",
   "execution_count": 1,
   "metadata": {},
   "outputs": [],
   "source": [
    "import os"
   ]
  },
  {
   "cell_type": "code",
   "execution_count": 2,
   "metadata": {},
   "outputs": [],
   "source": [
    "input_path = \"./fuzzing-binaries/BMFS_3_crashes/id_000000,sig_08,src_000000,op_int16,pos_1,val_+32\""
   ]
  },
  {
   "cell_type": "code",
   "execution_count": 3,
   "metadata": {},
   "outputs": [
    {
     "name": "stdout",
     "output_type": "stream",
     "text": [
      "b'c \\x00\\n'\n",
      "99\n",
      "32\n",
      "0\n",
      "10\n",
      "------------\n",
      "4\n"
     ]
    }
   ],
   "source": [
    "with open(input_path,\"rb\") as f:\n",
    "    string = f.read()\n",
    "    print(string)\n",
    "    temp = 0\n",
    "    for char in string:\n",
    "        temp+=1\n",
    "        print(char)\n",
    "    print(\"------------\")\n",
    "    print(temp)"
   ]
  },
  {
   "cell_type": "code",
   "execution_count": 4,
   "metadata": {},
   "outputs": [
    {
     "name": "stdout",
     "output_type": "stream",
     "text": [
      "10\n",
      "32\n",
      "9\n"
     ]
    }
   ],
   "source": [
    "print(ord(\"\\n\"))\n",
    "print(ord(\" \"))\n",
    "print(ord(\"\\t\"))"
   ]
  },
  {
   "cell_type": "code",
   "execution_count": null,
   "metadata": {},
   "outputs": [],
   "source": []
  }
 ],
 "metadata": {
  "kernelspec": {
   "display_name": "Python 3",
   "language": "python",
   "name": "python3"
  },
  "language_info": {
   "codemirror_mode": {
    "name": "ipython",
    "version": 3
   },
   "file_extension": ".py",
   "mimetype": "text/x-python",
   "name": "python",
   "nbconvert_exporter": "python",
   "pygments_lexer": "ipython3",
   "version": "3.7.0"
  }
 },
 "nbformat": 4,
 "nbformat_minor": 2
}
