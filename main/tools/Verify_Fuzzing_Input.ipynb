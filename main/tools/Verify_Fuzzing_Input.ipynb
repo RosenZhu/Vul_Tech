{
 "cells": [
  {
   "cell_type": "code",
   "execution_count": 1,
   "metadata": {},
   "outputs": [],
   "source": [
    "import os"
   ]
  },
  {
   "cell_type": "code",
   "execution_count": 2,
   "metadata": {},
   "outputs": [],
   "source": [
    "input_path = \"./id_000000,sig_06,src_000000,op_havoc,rep_16\"\n",
    "track_path = \"./AVR-Keyboard_0.txt\""
   ]
  },
  {
   "cell_type": "code",
   "execution_count": 3,
   "metadata": {},
   "outputs": [],
   "source": [
    "with open(track_path,\"r\") as f:\n",
    "    content = f.readlines()\n",
    "    f.close()"
   ]
  },
  {
   "cell_type": "code",
   "execution_count": 4,
   "metadata": {},
   "outputs": [
    {
     "name": "stdout",
     "output_type": "stream",
     "text": [
      "77\n",
      "-----------\n",
      "72\n",
      "37\n",
      "113\n",
      "64\n",
      "82\n",
      "-----------\n",
      "36\n",
      "-----------\n",
      "[['M', 1, '<'], ['H%q@R', 5, '<'], ['$', 1, '>']]\n"
     ]
    }
   ],
   "source": [
    "track = []\n",
    "\n",
    "for line in content:\n",
    "    if \"controller4vul\" in line:\n",
    "        if \",\" in line:\n",
    "            tempStr = line.split(\",\")[1]\n",
    "            if '\"'in tempStr:\n",
    "                condition = tempStr.split('\"')[1]\n",
    "                for char in condition:\n",
    "                    print(ord(char))\n",
    "                print(\"-----------\")\n",
    "                length = len(condition)\n",
    "                \n",
    "        if \"<\" in line:\n",
    "            comp = \"<\"\n",
    "        else:\n",
    "            if \">\" in line:\n",
    "                comp = \">\"\n",
    "            else:\n",
    "                comp = \"==\"\n",
    "        \n",
    "        track.append([condition,length,comp])\n",
    "    \n",
    "    if \"Vulnerability\" in line:\n",
    "        break\n",
    "\n",
    "print(track)"
   ]
  },
  {
   "cell_type": "code",
   "execution_count": 5,
   "metadata": {},
   "outputs": [
    {
     "name": "stdout",
     "output_type": "stream",
     "text": [
      "b'33333\\x10Vq'\n",
      "51\n",
      "51\n",
      "51\n",
      "51\n",
      "51\n",
      "16\n",
      "86\n",
      "113\n",
      "------------\n",
      "8\n"
     ]
    }
   ],
   "source": [
    "with open(input_path,\"rb\") as f:\n",
    "    string = f.read()\n",
    "    print(string)\n",
    "    temp = 0\n",
    "    for char in string:\n",
    "        temp+=1\n",
    "        print(char)\n",
    "    print(\"------------\")\n",
    "    print(temp)\n",
    "    f.close()"
   ]
  },
  {
   "cell_type": "code",
   "execution_count": 6,
   "metadata": {},
   "outputs": [],
   "source": [
    "def charcmp(c1,c2):\n",
    "    \n",
    "    if isinstance(c1,str):\n",
    "        c1 = ord(c1)\n",
    "    if isinstance(c2,str):\n",
    "        c2 = ord(c2)\n",
    "\n",
    "    if c1<c2:\n",
    "        return 1\n",
    "    else:\n",
    "        if c1 == c2:\n",
    "            return 0\n",
    "        else:\n",
    "            return -1\n",
    "\n",
    "def verify_input(track,string):\n",
    "    start_pos = 0\n",
    "    for check in track:\n",
    "        for index in range(0,check[1]):\n",
    "            if string[start_pos+index] == 10:\n",
    "                if check[2] == \"==\":\n",
    "                    print(\"False 1\")\n",
    "                    return False\n",
    "                if  start_pos+index < len(string)-1:\n",
    "                    start_pos = start_pos+index+1\n",
    "                    break\n",
    "            \n",
    "            result = charcmp(string[start_pos+index],check[0][index])\n",
    "            if check[2] == \">\":\n",
    "                result = -result\n",
    "            if check[2] == \"==\":\n",
    "                if result == 0:\n",
    "                    result = 1\n",
    "                else:\n",
    "                    result = -1\n",
    "                    \n",
    "            if result != 1:\n",
    "                print(\"string - \"+str(start_pos+index)+\"    check - \"+str(index))\n",
    "                print(\"string = \"+str(string[start_pos+index])+\"    check = \"+str(ord(check[0][index])))\n",
    "                print(\"----------------------\")\n",
    "                print(\"False 2\")\n",
    "                return False\n",
    "            else:\n",
    "                break\n",
    "                \n",
    "        print(\"string - \"+str(start_pos+index)+\"    check - \"+str(index))\n",
    "        print(\"string = \"+str(string[start_pos+index])+\"    check = \"+str(ord(check[0][index])))\n",
    "        print(\"----------------------\")\n",
    "        start_pos += check[1]\n",
    "        \n",
    "    return True"
   ]
  },
  {
   "cell_type": "code",
   "execution_count": 7,
   "metadata": {},
   "outputs": [
    {
     "name": "stdout",
     "output_type": "stream",
     "text": [
      "string - 0    check - 0\n",
      "string = 51    check = 77\n",
      "----------------------\n",
      "string - 1    check - 0\n",
      "string = 51    check = 72\n",
      "----------------------\n",
      "string - 6    check - 0\n",
      "string = 86    check = 36\n",
      "----------------------\n",
      "True\n"
     ]
    }
   ],
   "source": [
    "print(verify_input(track,string))"
   ]
  }
 ],
 "metadata": {
  "kernelspec": {
   "display_name": "Python 3",
   "language": "python",
   "name": "python3"
  },
  "language_info": {
   "codemirror_mode": {
    "name": "ipython",
    "version": 3
   },
   "file_extension": ".py",
   "mimetype": "text/x-python",
   "name": "python",
   "nbconvert_exporter": "python",
   "pygments_lexer": "ipython3",
   "version": "3.7.0"
  }
 },
 "nbformat": 4,
 "nbformat_minor": 2
}
