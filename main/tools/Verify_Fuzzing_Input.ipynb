{
 "cells": [
  {
   "cell_type": "code",
   "execution_count": 1,
   "metadata": {},
   "outputs": [],
   "source": [
    "import os"
   ]
  },
  {
   "cell_type": "code",
   "execution_count": 2,
   "metadata": {},
   "outputs": [],
   "source": [
    "input_path = \"./fuzzing-binaries/BMFS_3_crashes/id_000000,sig_08,src_000000,op_int16,pos_1,val_+32\"\n",
    "track_path = \"./AVR-Keyboard_0.txt\""
   ]
  },
  {
   "cell_type": "code",
   "execution_count": 3,
   "metadata": {},
   "outputs": [],
   "source": [
    "with open(track_path,\"r\") as f:\n",
    "    content = f.readlines()\n",
    "    f.close()"
   ]
  },
  {
   "cell_type": "code",
   "execution_count": 4,
   "metadata": {},
   "outputs": [
    {
     "name": "stdout",
     "output_type": "stream",
     "text": [
      "[['9D!v', 4, '<'], ['(*l', 3, '<'], ['%Um::', 5, '<']]\n"
     ]
    }
   ],
   "source": [
    "track = []\n",
    "\n",
    "for line in content:\n",
    "    if \"controller4vul\" in line:\n",
    "        if \",\" in line:\n",
    "            tempStr = line.split(\",\")[1]\n",
    "            if '\"'in tempStr:\n",
    "                condition = tempStr.split('\"')[1]\n",
    "                length = len(condition)\n",
    "                \n",
    "        if \"<\" in line:\n",
    "            comp = \"<\"\n",
    "        else:\n",
    "            if \">\" in line:\n",
    "                comp = \">\"\n",
    "            else:\n",
    "                comp = \"==\"\n",
    "        \n",
    "        track.append([condition,length,comp])\n",
    "    \n",
    "    if \"Vulnerability\" in line:\n",
    "        break\n",
    "\n",
    "print(track)"
   ]
  },
  {
   "cell_type": "code",
   "execution_count": 5,
   "metadata": {},
   "outputs": [
    {
     "name": "stdout",
     "output_type": "stream",
     "text": [
      "b'%\\n'\n",
      "37\n",
      "10\n",
      "------------\n",
      "2\n"
     ]
    }
   ],
   "source": [
    "with open(input_path,\"rb\") as f:\n",
    "    string = f.read()\n",
    "    print(string)\n",
    "    temp = 0\n",
    "    for char in string:\n",
    "        temp+=1\n",
    "        print(char)\n",
    "    print(\"------------\")\n",
    "    print(temp)\n",
    "    f.close()"
   ]
  },
  {
   "cell_type": "code",
   "execution_count": null,
   "metadata": {},
   "outputs": [],
   "source": []
  }
 ],
 "metadata": {
  "kernelspec": {
   "display_name": "Python 3",
   "language": "python",
   "name": "python3"
  },
  "language_info": {
   "codemirror_mode": {
    "name": "ipython",
    "version": 3
   },
   "file_extension": ".py",
   "mimetype": "text/x-python",
   "name": "python",
   "nbconvert_exporter": "python",
   "pygments_lexer": "ipython3",
   "version": "3.7.0"
  }
 },
 "nbformat": 4,
 "nbformat_minor": 2
}
