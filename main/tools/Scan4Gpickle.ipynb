{
 "cells": [
  {
   "cell_type": "code",
   "execution_count": 1,
   "metadata": {},
   "outputs": [],
   "source": [
    "import os\n",
    "import csv\n",
    "\n",
    "import CFV_Extractor as CE"
   ]
  },
  {
   "cell_type": "code",
   "execution_count": 2,
   "metadata": {},
   "outputs": [],
   "source": [
    "ifWords = [\"if\",\"else\",\"else if\"]\n",
    "keyWords = [\"if\",\"while\",\"for\",\"switch\",\"else\",\"else if\"]"
   ]
  },
  {
   "cell_type": "code",
   "execution_count": 3,
   "metadata": {},
   "outputs": [],
   "source": [
    "def getGpickleList(path):\n",
    "    name_list = []\n",
    "    for filename in os.listdir(path):\n",
    "        if filename.endswith(\".gpickle\"):\n",
    "            name_list.append(os.path.join(path,filename))\n",
    "    return name_list"
   ]
  },
  {
   "cell_type": "code",
   "execution_count": 4,
   "metadata": {},
   "outputs": [],
   "source": [
    "def scanIFinEnvironment(nodeSet):\n",
    "    node_if_numbers = [0] *  len(nodeSet)\n",
    "    for index in range(0,len(nodeSet)):\n",
    "        cfv = nodeSet[index][\"cfv\"]\n",
    "        for i in range(0,len(cfv)):\n",
    "            if cfv[i] == \"if\" or cfv[i] == \"else if\":\n",
    "                node_if_numbers[index] += 1\n",
    "    return node_if_numbers"
   ]
  },
  {
   "cell_type": "code",
   "execution_count": 5,
   "metadata": {},
   "outputs": [],
   "source": [
    "def scanInputDeepth(nodeSet):\n",
    "    node_if_numbers = scanIFinEnvironment(nodeSet)\n",
    "    high = 0\n",
    "    for i in range(0,len(node_if_numbers)):\n",
    "        if node_if_numbers[i]>high:\n",
    "            high = node_if_numbers[i]\n",
    "    return high"
   ]
  },
  {
   "cell_type": "code",
   "execution_count": 6,
   "metadata": {},
   "outputs": [],
   "source": [
    "def countWeight(cfv):\n",
    "        weight = 0\n",
    "        cur_weight = 0\n",
    "        record = []\n",
    "        for item in cfv:\n",
    "            if item in keyWords:\n",
    "                record.append(item)\n",
    "                if len([x for x in record if x in ifWords]) > weight:\n",
    "                    weight = len([x for x in record if x in ifWords])\n",
    "            else:\n",
    "                if item == \"}\":\n",
    "                    if len(record) > 0:\n",
    "                        record.pop()          \n",
    "        return weight\n",
    "    \n",
    "def initWeight(cfvSet):\n",
    "        weight = []\n",
    "        for item in cfvSet:\n",
    "            weight.append(countWeight(item[\"cfv\"]))\n",
    "        return weight"
   ]
  },
  {
   "cell_type": "code",
   "execution_count": 7,
   "metadata": {},
   "outputs": [],
   "source": [
    "def scanVulDeepth(nodeSet,extractor):\n",
    "    cfvWeight = initWeight(nodeSet)\n",
    "\n",
    "    allPath = []\n",
    "\n",
    "    for target in range(1,len(cfvWeight)):\n",
    "        allPath.append(list(extractor.getAllPath(0,target)))\n",
    "\n",
    "    #print(allPath)\n",
    "    #print(cfvWeight)\n",
    "\n",
    "    high = 0\n",
    "    for i in range(0,len(cfvWeight)-1):\n",
    "        for path in allPath[i]:\n",
    "            score = sum([cfvWeight[x] for x in path])\n",
    "            if score >high:\n",
    "                high = score\n",
    "                \n",
    "    return high"
   ]
  },
  {
   "cell_type": "code",
   "execution_count": 8,
   "metadata": {},
   "outputs": [],
   "source": [
    "gpickle_path = \"..\\gpickle\""
   ]
  },
  {
   "cell_type": "code",
   "execution_count": 9,
   "metadata": {},
   "outputs": [],
   "source": [
    "gpickle_list = getGpickleList(gpickle_path)"
   ]
  },
  {
   "cell_type": "code",
   "execution_count": 10,
   "metadata": {},
   "outputs": [],
   "source": [
    "with open(\"gpickle.csv\",\"w\",newline=\"\") as datacsv:\n",
    "    csvwriter = csv.writer(datacsv,dialect =(\"excel\"))\n",
    "    \n",
    "    header = [\"file_path\",\"input_deepth\",\"vul_deepth\"]\n",
    "    \n",
    "    csvwriter.writerow(header)\n",
    "    \n",
    "    for i in range(0,len(gpickle_list)):\n",
    "        extractor = CE.CFV_Extractor(gpickle_list[i])\n",
    "        nodeSet = extractor.getAllCFV()\n",
    "        input_deepth = scanInputDeepth(nodeSet)\n",
    "        vul_deepth = scanVulDeepth(nodeSet,extractor)\n",
    "        \n",
    "        line = [gpickle_list[i],str(input_deepth),str(vul_deepth)]\n",
    "        csvwriter.writerow(line)\n",
    "        \n",
    "        del extractor\n",
    "        \n",
    "    datacsv.close()"
   ]
  },
  {
   "cell_type": "code",
   "execution_count": null,
   "metadata": {},
   "outputs": [],
   "source": [
    "\n",
    "    "
   ]
  }
 ],
 "metadata": {
  "kernelspec": {
   "display_name": "Python 3",
   "language": "python",
   "name": "python3"
  },
  "language_info": {
   "codemirror_mode": {
    "name": "ipython",
    "version": 3
   },
   "file_extension": ".py",
   "mimetype": "text/x-python",
   "name": "python",
   "nbconvert_exporter": "python",
   "pygments_lexer": "ipython3",
   "version": "3.7.0"
  }
 },
 "nbformat": 4,
 "nbformat_minor": 2
}
