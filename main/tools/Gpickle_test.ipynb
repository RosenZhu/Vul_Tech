{
 "cells": [
  {
   "cell_type": "code",
   "execution_count": 1,
   "metadata": {},
   "outputs": [],
   "source": [
    "import os\n",
    "import threading\n",
    "import time\n",
    "\n",
    "import CFV_Extractor as CE"
   ]
  },
  {
   "cell_type": "code",
   "execution_count": 2,
   "metadata": {},
   "outputs": [],
   "source": [
    "ifWords = [\"if\",\"else if\"]\n",
    "keyWords = [\"if\",\"while\",\"for\",\"switch\",\"else\",\"else if\"]"
   ]
  },
  {
   "cell_type": "code",
   "execution_count": 3,
   "metadata": {},
   "outputs": [],
   "source": [
    "def pre_process_filter(nodeSet):\n",
    "    filter_list = [\"case\",\"?:\",\"break\",\"default\",\"continue\"]\n",
    "    keys = [\"switch\"]\n",
    "    for i in range(0,len(nodeSet)):\n",
    "        index = 0\n",
    "        while index<len(nodeSet[i][\"cfv\"]):\n",
    "            if nodeSet[i][\"cfv\"][index] in filter_list:\n",
    "                del nodeSet[i][\"cfv\"][index]\n",
    "            elif nodeSet[i][\"cfv\"][index] in keys:\n",
    "                nodeSet[i][\"cfv\"][index] = \"if\"\n",
    "            else:\n",
    "                index+=1\n",
    "        \n",
    "    return nodeSet\n",
    "\n",
    "def getGpickleList(path):\n",
    "    name_list = []\n",
    "    for filename in os.listdir(path):\n",
    "        if filename.endswith(\".gpickle\"):\n",
    "            name_list.append(os.path.join(path,filename))\n",
    "    return name_list\n",
    "\n",
    "def scanIFinEnvironment(nodeSet):\n",
    "    node_if_numbers = [0] *  len(nodeSet)\n",
    "    for index in range(0,len(nodeSet)):\n",
    "        cfv = nodeSet[index][\"cfv\"]\n",
    "        for i in range(0,len(cfv)):\n",
    "            if cfv[i] == \"if\" or cfv[i] == \"else if\":\n",
    "                node_if_numbers[index] += 1\n",
    "    return node_if_numbers\n",
    "\n",
    "def scanInputDeepth(nodeSet):\n",
    "    node_if_numbers = scanIFinEnvironment(nodeSet)\n",
    "    high = 0\n",
    "    #for i in range(0,len(node_if_numbers)):\n",
    "    #    if node_if_numbers[i]>high:\n",
    "    #        high = node_if_numbers[i]\n",
    "    high = sum(node_if_numbers)\n",
    "    return high\n",
    "\n",
    "def countWeight(cfv):\n",
    "        weight = 0\n",
    "        cur_weight = 0\n",
    "        record = []\n",
    "        for item in cfv:\n",
    "            if item in keyWords:\n",
    "                record.append(item)\n",
    "                if len([x for x in record if x in ifWords]) > weight:\n",
    "                    weight = len([x for x in record if x in ifWords])\n",
    "            else:\n",
    "                if item == \"}\":\n",
    "                    if len(record) > 0:\n",
    "                        record.pop()          \n",
    "        return weight\n",
    "    \n",
    "def initWeight(cfvSet):\n",
    "        weight = []\n",
    "        for item in cfvSet:\n",
    "            weight.append(countWeight(item[\"cfv\"]))\n",
    "        return weight\n",
    "\n",
    "def scanVulDeepth(nodeSet,extractor):\n",
    "    cfvWeight = initWeight(nodeSet)\n",
    "\n",
    "    allPath = [[[0]]]\n",
    "\n",
    "    for target in range(1,len(cfvWeight)):\n",
    "        allPath.append(list(extractor.getAllPath(0,target)))\n",
    "\n",
    "    #print(allPath)\n",
    "    #print(cfvWeight)\n",
    "\n",
    "    high = 0\n",
    "    for i in range(0,len(cfvWeight)):\n",
    "        for path in allPath[i]:\n",
    "            score = sum([cfvWeight[x] for x in path])\n",
    "            #print(path)\n",
    "            #print([cfvWeight[x] for x in path])\n",
    "            #print(score)\n",
    "            if score >high:\n",
    "                high = score\n",
    "                \n",
    "    return high"
   ]
  },
  {
   "cell_type": "code",
   "execution_count": 4,
   "metadata": {},
   "outputs": [
    {
     "name": "stdout",
     "output_type": "stream",
     "text": [
      "input_deepth = 4\n",
      "vul_deepth = 1\n"
     ]
    }
   ],
   "source": [
    "path = r\"..\\gpickle\\openlaunchd_1.gpickle\"\n",
    "\n",
    "\n",
    "extractor = CE.CFV_Extractor(path)\n",
    "nodeSet = extractor.getAllCFV()\n",
    "nodeSet = pre_process_filter(nodeSet)\n",
    "\n",
    "input_deepth = scanInputDeepth(nodeSet)\n",
    "vul_deepth = scanVulDeepth(nodeSet,extractor)\n",
    "\n",
    "print(\"input_deepth = \"+str(input_deepth))\n",
    "print(\"vul_deepth = \"+str(vul_deepth))"
   ]
  },
  {
   "cell_type": "code",
   "execution_count": 5,
   "metadata": {},
   "outputs": [
    {
     "name": "stdout",
     "output_type": "stream",
     "text": [
      "[{'name': 'main', 'full_definition': 'int main void', 'id': 'wait4path_8c_1a0ddf1224851353fc92bfbff6f499fa97', 'bodyfile': '/home/hp5_xgz/github_dl/_OPstart/openlaunchd/wait4path/wait4path.c', 'bodystart': '31', 'bodyend': '61', 'refids': ['No_refs'], 'refedids': [], 'depth_binary_tree': 3, 'number_blocks': 6, 'number_code_lines': 27, 'cfv': ['{', ';', ';', ';', 'if', '{', ';', ';', '}', ';', 'if', '{', ';', ';', '}', 'if', '{', ';', '}', 'for', '{', ';', 'if', '{', ';', '}', '}', ';', '}'], 'refDef': []}]\n"
     ]
    }
   ],
   "source": [
    "print(nodeSet)"
   ]
  },
  {
   "cell_type": "code",
   "execution_count": 6,
   "metadata": {},
   "outputs": [
    {
     "name": "stdout",
     "output_type": "stream",
     "text": [
      "int main void\n"
     ]
    }
   ],
   "source": [
    "for i in range(0,len(nodeSet)):\n",
    "    print(nodeSet[i][\"full_definition\"])"
   ]
  },
  {
   "cell_type": "code",
   "execution_count": null,
   "metadata": {},
   "outputs": [],
   "source": []
  }
 ],
 "metadata": {
  "kernelspec": {
   "display_name": "Python 3",
   "language": "python",
   "name": "python3"
  },
  "language_info": {
   "codemirror_mode": {
    "name": "ipython",
    "version": 3
   },
   "file_extension": ".py",
   "mimetype": "text/x-python",
   "name": "python",
   "nbconvert_exporter": "python",
   "pygments_lexer": "ipython3",
   "version": "3.7.0"
  }
 },
 "nbformat": 4,
 "nbformat_minor": 2
}
