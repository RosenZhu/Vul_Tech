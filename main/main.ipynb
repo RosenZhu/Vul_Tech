{
 "cells": [
  {
   "cell_type": "code",
   "execution_count": 1,
   "metadata": {},
   "outputs": [],
   "source": [
    "# CFV Extrate                                 \\\\   Finish \n",
    "\n",
    "# Pre process\n",
    "    #  1) delete all return statements then add it in the end of function\n",
    "\n",
    "# Select Vulnerability Location               \\\\   Finish\n",
    "    #  1) change the allocate weight method   \\\\   Finish\n",
    "    #  2) allocate the magic number weight    \\\\   Finish\n",
    "    #  3) add one more parameter to the function\n",
    "    #     to make the path unique             \\\\   Finish\n",
    "\n",
    "# Dataflow Marker                             \\\\   Finish \n",
    "    #  1) change the definition parameters    \\\\   Finish  \n",
    "    \n",
    "# Vulnerability Insertion                     \\\\   Finish\n",
    "    #  1) use the track to insert vul code    \\\\   Finish\n",
    "      \n",
    "# Function Call & Controller Insertion        \\\\   Finish\n",
    "    #  1) checksum parameter controller       \\\\   Finish    \n",
    "    #  2) magic number length parameter       \\\\   Finish    \n",
    "    #  3) change input type to \"scanf\"        \\\\   Finish  \n",
    "    #  4）change the comparation expression   \\\\   Finish\n",
    "    \n",
    "# Key Words Statements Insertion              \\\\   Finish\n",
    "    #  1) change the loop and if statements   \\\\   Finish\n",
    "    #  2) fix the bug                         \\\\   Finish \n",
    "    #  3) add the magic parameter controller  \\\\   Finish\n",
    "    #  4）add function call                   \\\\   Finish\n",
    "    #  5) more key words processor            \\\\   Finish\n",
    "    #  6) add if numbers controller parameter \\\\   Finish\n",
    "    #  7) remove some special symbols         \\\\   Finish \n",
    "    \n",
    "# Environment Code Generation                 \\\\   Finish\n",
    "    #  1) add unique function call processor  \\\\   Finish   \n",
    "    \n",
    "# Formalization                               \\\\   Finish\n",
    "    #  1) add includings                      \\\\   Finish\n",
    "    #  2) add vul lib includings              \\\\   Finish\n",
    "\n",
    "# Known Bug:\n",
    "#    1) the optional question in environment code generation\n",
    "#    2) the function calls may be inserted in front of the dataflow     (Fixed)\n",
    "\n",
    "# TO DO :\n",
    "#    1) add fake vulberability "
   ]
  },
  {
   "cell_type": "code",
   "execution_count": 2,
   "metadata": {},
   "outputs": [],
   "source": [
    "import os\n",
    "from xml.dom.minidom import parse\n",
    "import xml.dom.minidom\n",
    "import numpy as np\n",
    "import random\n",
    "import csv\n",
    "import networkx as nx\n",
    "import unicodedata\n",
    "import copy\n",
    "\n",
    "import CFV_Extractor as CE\n",
    "import Select_Vul_Location as VL\n",
    "import FuncCall_Controller_Insertion as FCI\n",
    "import Vul_Marker as VM\n",
    "import Vul_Insertion as VI\n",
    "import Environment_Code_Generator as ECG\n",
    "import Environment_Key_Statement_Insertion as EKSI\n",
    "import Formalization as Formal\n",
    "\n",
    "\n",
    "GrammarTree = r\"./GrammarTree.xml\" # the grammar tree path\n",
    "VulLib = r\"./VulnerabilityLib.xml\" # the vulnerability lib path\n",
    "\n",
    "FilePath = \"./BMFS_3.gpickle\""
   ]
  },
  {
   "cell_type": "code",
   "execution_count": 3,
   "metadata": {},
   "outputs": [],
   "source": [
    "# ================ ulit parameters =======================\n",
    "\n",
    "# the unique path check number\n",
    "unique_magic_number = random.randint(0,1000)\n",
    "\n",
    "# the chose vulnerability name\n",
    "Vul_name = \"CWE-761\"\n",
    "\n",
    "# dataflow parameters and environment parameters\n",
    "\n",
    "# ================ dataflow parameters =====================\n",
    "\n",
    "# the input number indicte the deepth of the vulnerability\n",
    "# e.g. ' input_number = 10 ' means the vulnerability was hiden in \n",
    "#       a 10 deepth input nest (if you want to trige the vulnerability,\n",
    "#       you have to pass the 10 if-input-checks)\n",
    "dataflow_parameter_input_number = 10            \n",
    "            \n",
    "# the percentage of magic number based on input numbers\n",
    "# e.g. ' magic_number = 0.1 ' the magic number takes 10% of input numbers\n",
    "#       if the input_number equals 10, one of them (10%) will become a \n",
    "#       magic number check\n",
    "dataflow_parameter_magic_number = 0.1           \n",
    "            \n",
    "            \n",
    "# the magic_number_mix and max limit the input length\n",
    "# for e.g. ' min = 1 && max = 5 ' means the length of the magic number check will be randonly picked from 1 to 5\n",
    "dataflow_parameter_magic_number_length_min = 1\n",
    "dataflow_parameter_magic_number_length_max = 5\n",
    "\n",
    "# the type number of checksum\n",
    "# 1 = remainder_check\n",
    "# 2 = .....(to be continued)\n",
    "dataflow_parameter_checksum_type = 1\n",
    "\n",
    "\n",
    "dataflow_parameter_checksum_div = 100\n",
    "dataflow_parameter_checksum = 0\n",
    "\n",
    "# ================ environment parameters =====================\n",
    "environment_parameter_branches = 100\n",
    "\n",
    "environment_parameter_loop_times_min = 1\n",
    "environment_parameter_loop_times_max = 10\n",
    "\n",
    "environment_parameter_magic_number_length_min = 1\n",
    "environment_parameter_magic_number_length_max = 5\n",
    "environment_parameter_magic_number = 1\n",
    "\n",
    "environment_parameter_checksum_type = 1\n",
    "environment_parameter_checksum_div = 100\n",
    "environment_parameter_checksum_number = 0\n",
    "\n",
    "environment_paramenter_loop_time = 5\n"
   ]
  },
  {
   "cell_type": "code",
   "execution_count": 4,
   "metadata": {},
   "outputs": [],
   "source": [
    "# to test the function callee and caller`s relationship in their refids and refedids\n",
    "def recover_test():\n",
    "    for i in range(1,len(selectedPath)):\n",
    "        if nodeSet[selectedPath[i]][\"id\"] in nodeSet[selectedPath[i-1]][\"refids\"]:\n",
    "            print(\"1\")\n",
    "        else:\n",
    "            print(\"2\")\n",
    "\n",
    "    for i in range(1,len(selectedPath)):\n",
    "        if nodeSet[selectedPath[i-1]][\"id\"] in nodeSet[selectedPath[i]][\"refedids\"]:\n",
    "            print(\"3\")\n",
    "        else:\n",
    "            print(\"4\")"
   ]
  },
  {
   "cell_type": "code",
   "execution_count": 6,
   "metadata": {},
   "outputs": [],
   "source": [
    "def display_vul_path():\n",
    "    for i in range(0,len(selectedPath)):\n",
    "        print(nodeSet[selectedPath[i]][\"name\"])\n",
    "        print(nodeSet[selectedPath[i]][\"cfv\"])\n",
    "        print(\"==================================\")\n",
    "    print(\"vul_path:\")\n",
    "    print(selectedPath)\n",
    "    print(\"path_weight:\")\n",
    "    print(selectedWeight)\n",
    "    print(\"magic number weight\")\n",
    "    print(magicWeight)\n",
    "    print(\"checksum weight\")\n",
    "    print(checksumWeight)"
   ]
  },
  {
   "cell_type": "code",
   "execution_count": 7,
   "metadata": {},
   "outputs": [],
   "source": [
    "def getParameters():\n",
    "    \n",
    "    content = \"\"\n",
    "    \n",
    "    # ulit parameters\n",
    "    content += \"\\n\\n================= ulit parameters ======================\\n\\n\"\n",
    "    content += \"unique_magic_number = \"+ str(unique_magic_number)+\"\\n\"\n",
    "    content += \"vulnerability_name = \"+ str(Vul_name)+\"\\n\"\n",
    "    content += \"\\n================= ulit parameters ends ======================\"\n",
    "    \n",
    "    # dataflow parameters\n",
    "    content +=\"\\n\\n================= dataflow parameters ======================\\n\\n\"\n",
    "    content +=\"dataflow_parameter_input_number = \"+str(dataflow_parameter_input_number)+\"\\n\\n\"\n",
    "    content +=\"dataflow_parameter_magic_number = \"+str(dataflow_parameter_magic_number)+\"\\n\"\n",
    "    content +=\"dataflow_parameter_magic_number_length_min = \"+str(dataflow_parameter_magic_number_length_min)+\"\\n\"\n",
    "    content +=\"dataflow_parameter_magic_number_length_max = \"+str(dataflow_parameter_magic_number_length_max)+\"\\n\\n\"\n",
    "    content +=\"dataflow_parameter_checksum_type = \"+str(dataflow_parameter_checksum_type)+\"\\n\"\n",
    "    content +=\"dataflow_parameter_checksum_div = \"+str(dataflow_parameter_checksum_div)+\"\\n\"\n",
    "    content +=\"dataflow_parameter_checksum = \"+str(dataflow_parameter_checksum)+\"\\n\"\n",
    "    content +=\"\\n================= dataflow parameters ends ======================\"\n",
    "\n",
    "    # environment parameters\n",
    "    content +=\"\\n\\n================= environment parameters ======================\\n\\n\"\n",
    "    content +=\"environment_parameter_branches = \"+str(environment_parameter_branches)+\"\\n\\n\"\n",
    "    content +=\"environment_parameter_loop_times_min = \"+str(environment_parameter_loop_times_min)+\"\\n\"\n",
    "    content +=\"environment_parameter_loop_times_max = \"+str(environment_parameter_loop_times_max)+\"\\n\\n\"\n",
    "    content +=\"environment_parameter_magic_number_length_min = \"+str(environment_parameter_magic_number_length_min)+\"\\n\"\n",
    "    content +=\"environment_parameter_magic_number_length_max = \"+str(environment_parameter_magic_number_length_max)+\"\\n\"\n",
    "    content +=\"environment_parameter_magic_number = \"+str(environment_parameter_magic_number)+\"\\n\\n\"\n",
    "    content +=\"environment_parameter_checksum_type = \"+str(environment_parameter_checksum_type)+\"\\n\"\n",
    "    content +=\"environment_parameter_checksum_div = \"+str(environment_parameter_checksum_div)+\"\\n\"\n",
    "    content +=\"environment_parameter_checksum_number = \"+str(environment_parameter_checksum_number)+\"\\n\\n\"\n",
    "    content +=\"environment_paramenter_loop_time = \"+str(environment_paramenter_loop_time)+\"\\n\"\n",
    "    content +=\"\\n================= environment parameters ends ======================\"\n",
    "    \n",
    "    return content"
   ]
  },
  {
   "cell_type": "code",
   "execution_count": 8,
   "metadata": {},
   "outputs": [],
   "source": [
    "# filter for the word list\n",
    "def pre_process_filter(nodeSet):\n",
    "    filter_list = [\"switch\",\"case\",\"?:\",\"break\",\"default\",\"continue\"]\n",
    "    for i in range(0,len(nodeSet)):\n",
    "        index = 0\n",
    "        while index<len(nodeSet[i][\"cfv\"]):\n",
    "            if nodeSet[i][\"cfv\"][index] in filter_list:\n",
    "                del nodeSet[i][\"cfv\"][index]\n",
    "            else:\n",
    "                index+=1\n",
    "        \n",
    "    return nodeSet\n",
    "                \n",
    "# rename the confilcted function name\n",
    "def pre_process_func_name(nodeSet):\n",
    "    func_name_list = []\n",
    "    for i in range(0,len(nodeSet)):\n",
    "        if nodeSet[i][\"name\"] not in func_name_list:\n",
    "            func_name_list.append(nodeSet[i][\"name\"])\n",
    "        else:\n",
    "            new_name = \"new_\"+nodeSet[i][\"name\"]\n",
    "            old_name = nodeSet[i][\"name\"]\n",
    "            retType = nodeSet[i][\"full_definition\"].split(nodeSet[i][\"name\"])[0].strip()\n",
    "            \n",
    "            nodeSet[i][\"full_definition\"] = nodeSet[i][\"full_definition\"].replace(old_name,new_name)\n",
    "            nodeSet[i][\"name\"] = new_name \n",
    "            \n",
    "            for index in range(0,len(nodeSet)):\n",
    "                for j in range(0,len(nodeSet[index][\"refDef\"])):\n",
    "                    if nodeSet[index][\"refDef\"][j][0] == old_name:\n",
    "                        if nodeSet[index][\"refDef\"][j][1].split(old_name)[0].strip()==retType:\n",
    "                            refDef = (new_name,nodeSet[index][\"refDef\"][j][1].replace(old_name,new_name))\n",
    "                            nodeSet[index][\"refDef\"][j] = refDef\n",
    "                            \n",
    "    return nodeSet\n",
    "\n",
    "# add return to the blank cfv node\n",
    "def pro_process_blank_cfv(nodeSet):\n",
    "    for i in range(0,len(nodeSet)):\n",
    "        if len(nodeSet[i][\"cfv\"])==0:\n",
    "            #print(nodeSet[i][\"full_definition\"])\n",
    "            if nodeSet[i][\"full_definition\"].startswith(\"void\"):\n",
    "                nodeSet[i][\"cfv\"] = ['{','return','}']\n",
    "            else:\n",
    "                nodeSet[i][\"cfv\"] = ['{',';','}']\n",
    "    return nodeSet"
   ]
  },
  {
   "cell_type": "code",
   "execution_count": 9,
   "metadata": {},
   "outputs": [],
   "source": [
    "extractor = CE.CFV_Extractor(FilePath)\n",
    "nodeSet = extractor.getAllCFV()"
   ]
  },
  {
   "cell_type": "code",
   "execution_count": 10,
   "metadata": {},
   "outputs": [],
   "source": [
    "for index in range(0,len(nodeSet)):\n",
    "    for i in range(0,len(nodeSet[index][\"cfv\"])):\n",
    "        if nodeSet[index][\"cfv\"][i] == \"while\" and nodeSet[index][\"cfv\"][i+1]!=\"{\":\n",
    "            print(\"--------------\")\n",
    "            print(nodeSet[index][\"name\"])\n",
    "            print(nodeSet[index][\"cfv\"][i])\n",
    "            print(nodeSet[index][\"cfv\"][i+1])"
   ]
  },
  {
   "cell_type": "code",
   "execution_count": 11,
   "metadata": {},
   "outputs": [],
   "source": [
    "nodeSet = pre_process_filter(nodeSet)\n",
    "nodeSet = pre_process_func_name(nodeSet)\n",
    "nodeSet = pro_process_blank_cfv(nodeSet)"
   ]
  },
  {
   "cell_type": "code",
   "execution_count": 12,
   "metadata": {},
   "outputs": [],
   "source": [
    "# =================================== locate the vul location ==================================="
   ]
  },
  {
   "cell_type": "code",
   "execution_count": 13,
   "metadata": {},
   "outputs": [],
   "source": [
    "locator = VL.Select_Vul_Location(extractor,dataflow_parameter_input_number\n",
    "                                 ,dataflow_parameter_magic_number\n",
    "                                 ,dataflow_parameter_checksum)\n",
    "\n",
    "selectedPath = locator.getSelectedPath()\n",
    "selectedWeight = locator.getSelectedWeight()\n",
    "magicWeight = locator.getMagicNumberWeight()\n",
    "checksumWeight = locator.getChecksumWeight()"
   ]
  },
  {
   "cell_type": "code",
   "execution_count": 14,
   "metadata": {},
   "outputs": [
    {
     "name": "stdout",
     "output_type": "stream",
     "text": [
      "dataflow_input:\n",
      "10\n",
      "path:\n",
      "[0, 120, 122, 123, 87, 82, 65]\n",
      "cfvWeight:\n",
      "[2, 2, 1, 2, 1, 1, 1]\n",
      "weight:\n",
      "[2, 2, 1, 2, 1, 1, 1]\n",
      "magic number weight:\n",
      "[0, 0, 0, 0, 1, 0, 0]\n",
      "checksum weight:\n",
      "[0, 0, 0, 0, 0, 0, 0]\n"
     ]
    }
   ],
   "source": [
    "locator.displayOutput()"
   ]
  },
  {
   "cell_type": "code",
   "execution_count": 15,
   "metadata": {},
   "outputs": [],
   "source": [
    "# =================================== locate the vul location Ends ==================================="
   ]
  },
  {
   "cell_type": "code",
   "execution_count": 16,
   "metadata": {},
   "outputs": [],
   "source": [
    "# =================================== vul location marker ==================================="
   ]
  },
  {
   "cell_type": "code",
   "execution_count": 17,
   "metadata": {},
   "outputs": [],
   "source": [
    "nodeSet = VM.markDataflow(nodeSet,selectedWeight,selectedPath)"
   ]
  },
  {
   "cell_type": "code",
   "execution_count": 18,
   "metadata": {},
   "outputs": [],
   "source": [
    "nodeSet = VM.changeDefinitions(nodeSet,selectedPath)"
   ]
  },
  {
   "cell_type": "code",
   "execution_count": 19,
   "metadata": {},
   "outputs": [],
   "source": [
    "#for i in range(1,len(selectedPath)):\n",
    "#    nodeSet[selectedPath[i]] = VM.markDefinition(nodeSet[selectedPath[i]])"
   ]
  },
  {
   "cell_type": "code",
   "execution_count": null,
   "metadata": {},
   "outputs": [],
   "source": []
  },
  {
   "cell_type": "code",
   "execution_count": 20,
   "metadata": {},
   "outputs": [],
   "source": [
    "# =================================== vul location marker Ends ==================================="
   ]
  },
  {
   "cell_type": "code",
   "execution_count": 21,
   "metadata": {},
   "outputs": [],
   "source": [
    "# =================================== vul insertion ==================================="
   ]
  },
  {
   "cell_type": "code",
   "execution_count": 22,
   "metadata": {},
   "outputs": [
    {
     "name": "stdout",
     "output_type": "stream",
     "text": [
      "vul_definition\n",
      "['char * vul_var']\n",
      "vul_Statement\n",
      "['vul_var=(char*)malloc(20*sizeof(char))', 'strcpy(vul_var, \"CWE-761\")', '###vul_var = vul_var + 1', 'free(vul_var)']\n",
      "key_index\n",
      "2\n"
     ]
    }
   ],
   "source": [
    "# get the vul statement from vul lib xml file\n",
    "vul_node = VI.getVulNode(Vul_name,VulLib)\n",
    "vul_definition = VI.getVulDefinition(vul_node)\n",
    "vul_statement,key_index = VI.getVulStatement(vul_node)\n",
    "print(\"vul_definition\")\n",
    "print(vul_definition)\n",
    "print(\"vul_Statement\")\n",
    "print(vul_statement)\n",
    "print(\"key_index\")\n",
    "print(key_index)"
   ]
  },
  {
   "cell_type": "code",
   "execution_count": 23,
   "metadata": {},
   "outputs": [],
   "source": [
    "# get the vul track\n",
    "vul_track = VI.getVulTrack(nodeSet[selectedPath[-1]][\"cfv\"],\n",
    "                           vul_statement,\n",
    "                           key_index)"
   ]
  },
  {
   "cell_type": "code",
   "execution_count": 24,
   "metadata": {},
   "outputs": [
    {
     "name": "stdout",
     "output_type": "stream",
     "text": [
      "['{', 'char * vul_var;', 'if', '{', 'vul_var=(char*)malloc(20*sizeof(char));', 'strcpy(vul_var, \"CWE-761\");', 'if(uni_para == 776)', '{', 'vul_var = vul_var + 1;', '}', 'free(vul_var);', 'Vul/KeyStatement', 'return', '}', 'return', '}']\n"
     ]
    }
   ],
   "source": [
    "# use the track to insert the vul code\n",
    "nodeSet[selectedPath[-1]][\"cfv\"] = VI.insertStatementByTrack(vul_track,\n",
    "                                                            nodeSet[selectedPath[-1]][\"cfv\"],\n",
    "                                                            unique_magic_number)\n",
    "nodeSet[selectedPath[-1]][\"cfv\"] = VI.insertDefinitions(nodeSet[selectedPath[-1]][\"cfv\"],\n",
    "                                                       vul_definition)\n",
    "print(nodeSet[selectedPath[-1]][\"cfv\"])"
   ]
  },
  {
   "cell_type": "code",
   "execution_count": 25,
   "metadata": {},
   "outputs": [],
   "source": [
    "# =================================== vul insertion Ends ==================================="
   ]
  },
  {
   "cell_type": "code",
   "execution_count": 26,
   "metadata": {},
   "outputs": [],
   "source": [
    "# =================================== insert function call and controller ==================================="
   ]
  },
  {
   "cell_type": "code",
   "execution_count": 27,
   "metadata": {},
   "outputs": [],
   "source": [
    "# insert the function call\n",
    "nodeSet = FCI.insertFunctionCall(nodeSet,selectedPath,unique_magic_number)"
   ]
  },
  {
   "cell_type": "code",
   "execution_count": 28,
   "metadata": {},
   "outputs": [],
   "source": [
    "number = 0\n",
    "for index in selectedPath:\n",
    "    position = FCI.locateController(nodeSet[index][\"cfv\"])\n",
    "    magic_number_list = [0]*selectedWeight[number]\n",
    "    \n",
    "    temp = magicWeight[number]\n",
    "    while temp != 0:\n",
    "        index_magic = random.randint(0,selectedWeight[number]-1)\n",
    "        if  magic_number_list[index_magic] == 0:\n",
    "            temp-=1\n",
    "            magic_number_list[index_magic]+=1\n",
    "            \n",
    "    temp = checksumWeight[number]\n",
    "    while temp != 0:\n",
    "        index_magic = random.randint(0,selectedWeight[number]-1)\n",
    "        if  magic_number_list[index_magic] == 1:\n",
    "            temp-=1\n",
    "            magic_number_list[index_magic]+=1\n",
    "    \n",
    "    #print(magic_number_list)\n",
    "    \n",
    "    \n",
    "    nodeSet[index] = FCI.insertController(nodeSet[index],\n",
    "                                          position,\n",
    "                                          dataflow_parameter_magic_number_length_min,\n",
    "                                          dataflow_parameter_magic_number_length_max,\n",
    "                                          magic_number_list,\n",
    "                                          dataflow_parameter_checksum_type,\n",
    "                                           dataflow_parameter_checksum_div)\n",
    "    nodeSet[index][\"cfv\"] = FCI.uselessIfInsertion(nodeSet[index][\"cfv\"])\n",
    "    number+=1\n",
    "    #print(\"===========================\")"
   ]
  },
  {
   "cell_type": "code",
   "execution_count": 29,
   "metadata": {},
   "outputs": [],
   "source": [
    "# =================================== insert function call and controller Ends ==================================="
   ]
  },
  {
   "cell_type": "code",
   "execution_count": 30,
   "metadata": {},
   "outputs": [],
   "source": [
    "# =================================== environment key statement insertion generation ==================================="
   ]
  },
  {
   "cell_type": "code",
   "execution_count": 31,
   "metadata": {},
   "outputs": [],
   "source": [
    "def scanIFinEnvironment(nodeSet):\n",
    "    node_if_numbers = [0] *  len(nodeSet)\n",
    "    for index in range(0,len(nodeSet)):\n",
    "        cfv = nodeSet[index][\"cfv\"]\n",
    "        for i in range(0,len(cfv)):\n",
    "            if cfv[i] == \"if\" or cfv[i] == \"else if\":\n",
    "                node_if_numbers[index] += 1\n",
    "    return node_if_numbers"
   ]
  },
  {
   "cell_type": "code",
   "execution_count": 32,
   "metadata": {},
   "outputs": [],
   "source": [
    "def allocateNumbers(number_lsit,limit_times):\n",
    "    result_list = [0] * len(number_lsit)\n",
    "    temp = limit_times\n",
    "    while temp != 0:\n",
    "        index = random.randint(0,len(number_lsit)-1)\n",
    "        if  result_list[index] < number_lsit[index]:\n",
    "            temp-=1\n",
    "            result_list[index]+=1\n",
    "    \n",
    "    return result_list\n",
    "\n",
    "\n",
    "def changeNumber2List(source_list,target_list):\n",
    "    result_list = []\n",
    "    for i in range(0,len(source_list)):\n",
    "        temp_list = [0] * source_list[i]\n",
    "        limit = target_list[i]\n",
    "        while limit != 0:\n",
    "            index = random.randint(0,source_list[i]-1)\n",
    "            if temp_list[index] == 0:\n",
    "                limit-=1\n",
    "                temp_list[index]+=1\n",
    "        result_list.append(temp_list)\n",
    "    return result_list\n",
    "\n",
    "\n",
    "def recordBranchIndex(branch_list,level):\n",
    "    result_list = []\n",
    "    for i in range(0,len(branch_list)):\n",
    "        for j in range(0,len(branch_list[i])):\n",
    "            if branch_list[i][j]==level:\n",
    "                result_list.append([i,j])\n",
    "    return result_list\n",
    "\n",
    "def addNumberIntoBranch(branch_list,level,limit,record):\n",
    "    result_list = copy.copy(branch_list)\n",
    "    temp_list = [level] * len(record)\n",
    "    \n",
    "    temp = limit\n",
    "    while temp!=0:\n",
    "        index = random.randint(0,len(temp_list)-1)\n",
    "        if temp_list[index]==level:\n",
    "            temp-=1\n",
    "            temp_list[index]+=1\n",
    "    \n",
    "    for index in range(0,len(record)):\n",
    "        result_list[record[index][0]][record[index][1]] = temp_list[index]\n",
    "    \n",
    "    return result_list"
   ]
  },
  {
   "cell_type": "code",
   "execution_count": 33,
   "metadata": {},
   "outputs": [],
   "source": [
    "node_if_numbers = scanIFinEnvironment(nodeSet)\n",
    "#print(node_if_numbers)\n",
    "#print(sum(node_if_numbers))\n",
    "\n",
    "branch_list = allocateNumbers(node_if_numbers,environment_parameter_branches)\n",
    "\n",
    "branch_list = changeNumber2List(node_if_numbers,branch_list)\n",
    "#print(branch_list)\n",
    "\n",
    "record4magic_number = recordBranchIndex(branch_list,1)\n",
    "#print(record4magic_number)\n",
    "\n",
    "branch_list = addNumberIntoBranch(branch_list,1,environment_parameter_magic_number,record4magic_number)\n",
    "\n",
    "record4checksum = recordBranchIndex(branch_list,2)\n",
    "#print(record4checksum)\n",
    "\n",
    "branch_list = addNumberIntoBranch(branch_list,2,environment_parameter_checksum_number,record4checksum)\n",
    "\n",
    "#print(branch_list)\n",
    "\n"
   ]
  },
  {
   "cell_type": "code",
   "execution_count": 34,
   "metadata": {},
   "outputs": [],
   "source": [
    "for index in range(0,len(nodeSet)):\n",
    "    func_flag = 1\n",
    "    if index in selectedPath:\n",
    "        func_flag = 0\n",
    "    statementInserter = EKSI.StatementInserter(nodeSet[index],\n",
    "                                          environment_parameter_loop_times_min,\n",
    "                                          environment_parameter_loop_times_max,\n",
    "                                          branch_list[index],\n",
    "                                          environment_parameter_magic_number_length_min,\n",
    "                                          environment_parameter_magic_number_length_max,\n",
    "                                          environment_parameter_checksum_type,\n",
    "                                          environment_parameter_checksum_div,\n",
    "                                          func_flag)\n",
    "    nodeSet[index][\"cfv\"] = statementInserter.getCFV()\n",
    "    del statementInserter"
   ]
  },
  {
   "cell_type": "code",
   "execution_count": 35,
   "metadata": {},
   "outputs": [],
   "source": [
    "# =================================== environment key statement insertion generation Ends ==================================="
   ]
  },
  {
   "cell_type": "code",
   "execution_count": 36,
   "metadata": {},
   "outputs": [],
   "source": [
    "# =================================== environment code generation ==================================="
   ]
  },
  {
   "cell_type": "code",
   "execution_count": 37,
   "metadata": {},
   "outputs": [],
   "source": [
    "for index in range(0,len(nodeSet)):\n",
    "    generator = ECG.CodeGenerator(GrammarTree,nodeSet,index,selectedPath,unique_magic_number)\n",
    "    nodeSet[index][\"cfv\"] = generator.getCFV()\n"
   ]
  },
  {
   "cell_type": "code",
   "execution_count": 38,
   "metadata": {},
   "outputs": [],
   "source": [
    "# =================================== environment code generation Ends ==================================="
   ]
  },
  {
   "cell_type": "code",
   "execution_count": 39,
   "metadata": {},
   "outputs": [],
   "source": [
    "# =================================== formalization ==================================="
   ]
  },
  {
   "cell_type": "code",
   "execution_count": 40,
   "metadata": {},
   "outputs": [],
   "source": [
    "trackPath = \"\"\n",
    "if \"/\" in FilePath:\n",
    "    filename = FilePath.split(\"/\")[-1].split(\".\")[0]\n",
    "    trackPath = filename +\".txt\"\n",
    "    \n",
    "with open(trackPath,\"w\",encoding=\"utf-8\") as f:\n",
    "    f.truncate()\n",
    "    \n",
    "    # write the track\n",
    "    track = Formal.getTrackContent(selectedPath,nodeSet)\n",
    "    f.write(track)\n",
    "    \n",
    "    # write the parameters\n",
    "    parameter_content = getParameters()\n",
    "    f.write(parameter_content)\n"
   ]
  },
  {
   "cell_type": "code",
   "execution_count": 41,
   "metadata": {},
   "outputs": [],
   "source": [
    "nodeSet[selectedPath[-1]][\"cfv\"] = Formal.cleanVulMark(nodeSet[selectedPath[-1]][\"cfv\"])\n",
    "nodeSet[0][\"cfv\"].insert(1,\"int uni_para =\"+str(unique_magic_number)+\";\")"
   ]
  },
  {
   "cell_type": "code",
   "execution_count": 42,
   "metadata": {},
   "outputs": [],
   "source": [
    "CPath = \"\"\n",
    "if \"/\" in FilePath:\n",
    "    filename = FilePath.split(\"/\")[-1].split(\".\")[0]\n",
    "    CPath = filename +\".c\"\n",
    "    \n",
    "with open(CPath,\"w\",encoding=\"utf-8\") as f:\n",
    "    f.truncate()\n",
    "    \n",
    "    header_content = Formal.header4program(GrammarTree,vul_node)\n",
    "    f.write(header_content)\n",
    "    \n",
    "    checksum = Formal.swithForChecksum(dataflow_parameter_checksum_type)\n",
    "    f.write(checksum[0])\n",
    "    f.write(checksum[1])\n",
    "    if dataflow_parameter_checksum_type != environment_parameter_checksum_type:\n",
    "        checksum = Formal.swithForChecksum(environment_parameter_checksum_type)\n",
    "        f.write(checksum[0])\n",
    "        f.write(checksum[1])\n",
    "    \n",
    "    for index in range(len(nodeSet)-1,0,-1):\n",
    "        definition = Formal.Definition2Code(nodeSet,index)+\";\\n\"\n",
    "        f.write(definition)\n",
    "    for index in range(len(nodeSet)-1,-1,-1):\n",
    "        content = Formal.Node2Code(nodeSet,index)\n",
    "        f.write(content)"
   ]
  },
  {
   "cell_type": "code",
   "execution_count": 43,
   "metadata": {},
   "outputs": [],
   "source": [
    "# =================================== formalization Ends ==================================="
   ]
  }
 ],
 "metadata": {
  "kernelspec": {
   "display_name": "Python 3",
   "language": "python",
   "name": "python3"
  },
  "language_info": {
   "codemirror_mode": {
    "name": "ipython",
    "version": 3
   },
   "file_extension": ".py",
   "mimetype": "text/x-python",
   "name": "python",
   "nbconvert_exporter": "python",
   "pygments_lexer": "ipython3",
   "version": "3.7.0"
  }
 },
 "nbformat": 4,
 "nbformat_minor": 2
}
