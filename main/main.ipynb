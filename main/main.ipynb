{
 "cells": [
  {
   "cell_type": "code",
   "execution_count": 1,
   "metadata": {},
   "outputs": [],
   "source": [
    "# CFV Extrate                                 \\\\   Finish \n",
    "\n",
    "# Pre process\n",
    "    #  1) delete all return statements then add it in the end of function\n",
    "\n",
    "# Select Vulnerability Location               \\\\   Finish\n",
    "    #  1) change the allocate weight method   \\\\   Finish\n",
    "    #  2) allocate the magic number weight    \\\\   Finish\n",
    "    #  3) add one more parameter to the function\n",
    "    #     to make the path unique             \\\\   Finish\n",
    "\n",
    "# Dataflow Marker                             \\\\   Finish \n",
    "    #  1) change the definition parameters    \\\\   Finish  \n",
    "    \n",
    "# Vulnerability Insertion                     \\\\   Finish\n",
    "    #  1) use the track to insert vul code    \\\\   Finish\n",
    "      \n",
    "# Function Call & Controller Insertion        \\\\   Finish\n",
    "    #  1) checksum parameter controller       \\\\   Finish    \n",
    "    #  2) magic number length parameter       \\\\   Finish    \n",
    "    #  3) change input type to \"scanf\"        \\\\   Finish  \n",
    "    #  4）change the comparation expression   \\\\   Finish\n",
    "    \n",
    "# Key Words Statements Insertion              \\\\   Finish\n",
    "    #  1) change the loop and if statements   \\\\   Finish\n",
    "    #  2) fix the bug                         \\\\   Finish \n",
    "    #  3) add the magic parameter controller  \\\\   Finish\n",
    "    #  4）add function call                   \\\\   Finish\n",
    "    #  5) more key words processor            \\\\   Finish\n",
    "    #  6) add if numbers controller parameter \\\\   Finish\n",
    "    #  7) remove some special symbols         \\\\   Finish \n",
    "    \n",
    "# Environment Code Generation                 \\\\   Finish\n",
    "    #  1) add unique function call processor  \\\\   Finish   \n",
    "    \n",
    "# Formalization                               \\\\   Finish\n",
    "    #  1) add includings                      \\\\   Finish\n",
    "    #  2) add vul lib includings              \\\\   Finish\n",
    "\n",
    "# Known Bug:\n",
    "#    1) the optional question in environment code generation\n",
    "#    2) the function calls may be inserted in front of the dataflow     (Fixed)\n",
    "\n",
    "# TO DO :\n",
    "#    1) add fake vulberability "
   ]
  },
  {
   "cell_type": "code",
   "execution_count": 2,
   "metadata": {},
   "outputs": [],
   "source": [
    "import os\n",
    "from xml.dom.minidom import parse\n",
    "import xml.dom.minidom\n",
    "import numpy as np\n",
    "import random\n",
    "import csv\n",
    "import networkx as nx\n",
    "import unicodedata\n",
    "import copy\n",
    "\n",
    "import CFV_Extractor as CE\n",
    "import Select_Vul_Location as VL\n",
    "import FuncCall_Controller_Insertion as FCI\n",
    "import Vul_Marker as VM\n",
    "import Vul_Insertion as VI\n",
    "import Environment_Code_Generator as ECG\n",
    "import Environment_Key_Statement_Insertion as EKSI\n",
    "import Formalization as Formal\n",
    "\n",
    "\n",
    "GrammarTree = r\"./GrammarTree.xml\" # the grammar tree path\n",
    "VulLib = r\"./VulnerabilityLib.xml\" # the vulnerability lib path\n",
    "\n",
    "FilePath = \"./gpickle/AVR-Keyboard_0.gpickle\""
   ]
  },
  {
   "cell_type": "code",
   "execution_count": 3,
   "metadata": {},
   "outputs": [],
   "source": [
    "# ================ ulit parameters =======================\n",
    "\n",
    "# the unique path check number\n",
    "unique_magic_number = random.randint(0,1000)\n",
    "\n",
    "# the chose vulnerability name\n",
    "Vul_name = \"CWE-761\"\n",
    "\n",
    "# dataflow parameters and environment parameters\n",
    "\n",
    "# ================ dataflow parameters =====================\n",
    "\n",
    "# the input number indicte the deepth of the vulnerability\n",
    "# e.g. ' input_number = 10 ' means the vulnerability was hiden in \n",
    "#       a 10 deepth input nest (if you want to trige the vulnerability,\n",
    "#       you have to pass the 10 if-input-checks)\n",
    "#  the input check looks like ' if( strcmp(controller_1,\"abcd\") > 0)'\n",
    "dataflow_parameter_input_number = 3            \n",
    "            \n",
    "# the percentage of magic number based on input numbers\n",
    "# e.g. ' magic_number = 0.1 ' the magic number takes 10% of input numbers\n",
    "#       if the input_number equals 10, one of them (10%) will become a \n",
    "#       magic number check\n",
    "#  the magic number check looks like ' if( strcmp(controller_1,\"abcd\") == 0) ' \n",
    "dataflow_parameter_magic_number = 0           \n",
    "            \n",
    "            \n",
    "# the magic_number_mix and max limit the input length\n",
    "# for e.g. ' min = 1 && max = 5 ' means the length of the magic number check will be randonly picked from 1 to 5\n",
    "dataflow_parameter_magic_number_length_min = 1\n",
    "dataflow_parameter_magic_number_length_max = 5\n",
    "\n",
    "# the type number of checksum\n",
    "# 1 = remainder_check\n",
    "# 2 = .....(to be continued)\n",
    "# the checksum check look like ' if(remainder_check(controller_1,checksum_div,length_of_controller_1) '\n",
    "# more detail about the checksum function , please see 'Formalization.py'\n",
    "dataflow_parameter_checksum_type = 1\n",
    "\n",
    "# the dividend for remainder_checksum\n",
    "dataflow_parameter_checksum_div = 100\n",
    "\n",
    "# the percentage of checksum number based on magic numbers\n",
    "# e.g. ' checksum = 0.1 ' the checksum takes 10% of magic numbers\n",
    "#       if the input_number equals 10, one of them (10%) will become a \n",
    "#       checksum check\n",
    "dataflow_parameter_checksum = 0\n",
    "\n",
    "# ================ environment parameters =====================\n",
    "\n",
    "# branches means the input check numbers in environment code\n",
    "# e.g. ' branches = 100 ' means there are 100 input checks in the environment code\n",
    "environment_parameter_branches = 3\n",
    "\n",
    "# unuseful parameter ---\n",
    "# need to remove loop_times_min and max\n",
    "environment_parameter_loop_times_min = 1\n",
    "environment_parameter_loop_times_max = 10\n",
    "\n",
    "environment_parameter_magic_number_length_min = 1  # same meaning with dataflow one but in environment\n",
    "environment_parameter_magic_number_length_max = 5  # same meaning with dataflow one but in environment\n",
    "environment_parameter_magic_number = 0             # same meaning with dataflow one but in environment\n",
    "\n",
    "environment_parameter_checksum_type = 1     # same meaning with dataflow one but in environment\n",
    "environment_parameter_checksum_div = 100    # same meaning with dataflow one but in environment\n",
    "environment_parameter_checksum_number = 0   # same meaning with dataflow one but in environment\n",
    "\n",
    "# control loop time of all the loopers in environment code\n",
    "environment_paramenter_loop_time = 5\n"
   ]
  },
  {
   "cell_type": "code",
   "execution_count": 4,
   "metadata": {},
   "outputs": [],
   "source": [
    "# abandoned function\n",
    "# to test the function callee and caller`s relationship in their refids and refedids\n",
    "def recover_test():\n",
    "    for i in range(1,len(selectedPath)):\n",
    "        if nodeSet[selectedPath[i]][\"id\"] in nodeSet[selectedPath[i-1]][\"refids\"]:\n",
    "            print(\"1\")\n",
    "        else:\n",
    "            print(\"2\")\n",
    "\n",
    "    for i in range(1,len(selectedPath)):\n",
    "        if nodeSet[selectedPath[i-1]][\"id\"] in nodeSet[selectedPath[i]][\"refedids\"]:\n",
    "            print(\"3\")\n",
    "        else:\n",
    "            print(\"4\")"
   ]
  },
  {
   "cell_type": "code",
   "execution_count": 5,
   "metadata": {},
   "outputs": [],
   "source": [
    "# test-use only\n",
    "# display the vulnerablity related data:\n",
    "#     1) vul_path\n",
    "#     2) nest_path_weight\n",
    "#     3) maigc_number_weight\n",
    "#     4) checksum_weight\n",
    "def display_vul_path():\n",
    "    for i in range(0,len(selectedPath)):\n",
    "        print(nodeSet[selectedPath[i]][\"name\"])\n",
    "        print(nodeSet[selectedPath[i]][\"cfv\"])\n",
    "        print(\"==================================\")\n",
    "    print(\"vul_path:\")\n",
    "    print(selectedPath)\n",
    "    print(\"path_weight:\")\n",
    "    print(selectedWeight)\n",
    "    print(\"magic number weight\")\n",
    "    print(magicWeight)\n",
    "    print(\"checksum weight\")\n",
    "    print(checksumWeight)"
   ]
  },
  {
   "cell_type": "code",
   "execution_count": 6,
   "metadata": {},
   "outputs": [],
   "source": [
    "# get all hyper parameters and organize them in a txt content format\n",
    "def getParameters():\n",
    "    \n",
    "    content = \"\"\n",
    "    \n",
    "    # ulit parameters\n",
    "    content += \"\\n\\n================= ulit parameters ======================\\n\\n\"\n",
    "    content += \"unique_magic_number = \"+ str(unique_magic_number)+\"\\n\"\n",
    "    content += \"vulnerability_name = \"+ str(Vul_name)+\"\\n\"\n",
    "    content += \"\\n================= ulit parameters ends ======================\"\n",
    "    \n",
    "    # dataflow parameters\n",
    "    content +=\"\\n\\n================= dataflow parameters ======================\\n\\n\"\n",
    "    content +=\"dataflow_parameter_input_number = \"+str(dataflow_parameter_input_number)+\"\\n\\n\"\n",
    "    content +=\"dataflow_parameter_magic_number = \"+str(dataflow_parameter_magic_number)+\"\\n\"\n",
    "    content +=\"dataflow_parameter_magic_number_length_min = \"+str(dataflow_parameter_magic_number_length_min)+\"\\n\"\n",
    "    content +=\"dataflow_parameter_magic_number_length_max = \"+str(dataflow_parameter_magic_number_length_max)+\"\\n\\n\"\n",
    "    content +=\"dataflow_parameter_checksum_type = \"+str(dataflow_parameter_checksum_type)+\"\\n\"\n",
    "    content +=\"dataflow_parameter_checksum_div = \"+str(dataflow_parameter_checksum_div)+\"\\n\"\n",
    "    content +=\"dataflow_parameter_checksum = \"+str(dataflow_parameter_checksum)+\"\\n\"\n",
    "    content +=\"\\n================= dataflow parameters ends ======================\"\n",
    "\n",
    "    # environment parameters\n",
    "    content +=\"\\n\\n================= environment parameters ======================\\n\\n\"\n",
    "    content +=\"environment_parameter_branches = \"+str(environment_parameter_branches)+\"\\n\\n\"\n",
    "    content +=\"environment_parameter_loop_times_min = \"+str(environment_parameter_loop_times_min)+\"\\n\"\n",
    "    content +=\"environment_parameter_loop_times_max = \"+str(environment_parameter_loop_times_max)+\"\\n\\n\"\n",
    "    content +=\"environment_parameter_magic_number_length_min = \"+str(environment_parameter_magic_number_length_min)+\"\\n\"\n",
    "    content +=\"environment_parameter_magic_number_length_max = \"+str(environment_parameter_magic_number_length_max)+\"\\n\"\n",
    "    content +=\"environment_parameter_magic_number = \"+str(environment_parameter_magic_number)+\"\\n\\n\"\n",
    "    content +=\"environment_parameter_checksum_type = \"+str(environment_parameter_checksum_type)+\"\\n\"\n",
    "    content +=\"environment_parameter_checksum_div = \"+str(environment_parameter_checksum_div)+\"\\n\"\n",
    "    content +=\"environment_parameter_checksum_number = \"+str(environment_parameter_checksum_number)+\"\\n\\n\"\n",
    "    content +=\"environment_paramenter_loop_time = \"+str(environment_paramenter_loop_time)+\"\\n\"\n",
    "    content +=\"\\n================= environment parameters ends ======================\"\n",
    "    \n",
    "    return content"
   ]
  },
  {
   "cell_type": "code",
   "execution_count": 7,
   "metadata": {},
   "outputs": [],
   "source": [
    "# filter for the word list\n",
    "# filter all keyword in 'filter_list'\n",
    "# parameter: nodeSet -> which contains all the function node\n",
    "def pre_process_filter(nodeSet):\n",
    "    filter_list = [\"switch\",\"case\",\"?:\",\"break\",\"default\",\"continue\"]\n",
    "    for i in range(0,len(nodeSet)):\n",
    "        index = 0\n",
    "        while index<len(nodeSet[i][\"cfv\"]):\n",
    "            if nodeSet[i][\"cfv\"][index] in filter_list:\n",
    "                del nodeSet[i][\"cfv\"][index]\n",
    "            else:\n",
    "                index+=1\n",
    "        \n",
    "    return nodeSet\n",
    "                \n",
    "# rename the confilcted function name\n",
    "# add a prefix in the confilcted name and change the name in all reference or referenced call\n",
    "# parameter: nodeSet -> which contains all the function node\n",
    "def pre_process_func_name(nodeSet):\n",
    "    func_name_list = []\n",
    "    for i in range(0,len(nodeSet)):\n",
    "        if nodeSet[i][\"name\"] not in func_name_list:\n",
    "            func_name_list.append(nodeSet[i][\"name\"])\n",
    "        else:\n",
    "            new_name = \"new_\"+nodeSet[i][\"name\"]\n",
    "            old_name = nodeSet[i][\"name\"]\n",
    "            retType = nodeSet[i][\"full_definition\"].split(nodeSet[i][\"name\"])[0].strip()\n",
    "            \n",
    "            nodeSet[i][\"full_definition\"] = nodeSet[i][\"full_definition\"].replace(old_name,new_name)\n",
    "            nodeSet[i][\"name\"] = new_name \n",
    "            \n",
    "            # replace the old name in refDef of other nodes with new name\n",
    "            for index in range(0,len(nodeSet)):\n",
    "                for j in range(0,len(nodeSet[index][\"refDef\"])):\n",
    "                    if nodeSet[index][\"refDef\"][j][0] == old_name:\n",
    "                        if nodeSet[index][\"refDef\"][j][1].split(old_name)[0].strip()==retType:\n",
    "                            refDef = (new_name,nodeSet[index][\"refDef\"][j][1].replace(old_name,new_name))\n",
    "                            nodeSet[index][\"refDef\"][j] = refDef\n",
    "                            \n",
    "    return nodeSet\n",
    "\n",
    "# add return to the blank cfv node\n",
    "# if the blank cfv node needs a return variable, the cfv turns to ['{','return','}']\n",
    "# if the blank cfv node doesn`t have a return variable, the cfv turns to ['{',';','}']\n",
    "# parameter: nodeSet -> which contains all the function node\n",
    "def pro_process_blank_cfv(nodeSet):\n",
    "    for i in range(0,len(nodeSet)):\n",
    "        if len(nodeSet[i][\"cfv\"])==0:\n",
    "            #print(nodeSet[i][\"full_definition\"])\n",
    "            if nodeSet[i][\"full_definition\"].startswith(\"void\"):\n",
    "                nodeSet[i][\"cfv\"] = ['{',';','}']\n",
    "            else:\n",
    "                nodeSet[i][\"cfv\"] = ['{','return','}']\n",
    "    return nodeSet"
   ]
  },
  {
   "cell_type": "code",
   "execution_count": 8,
   "metadata": {},
   "outputs": [],
   "source": [
    "# get the node list from gpickle file \n",
    "extractor = CE.CFV_Extractor(FilePath)\n",
    "nodeSet = extractor.getAllCFV()"
   ]
  },
  {
   "cell_type": "code",
   "execution_count": 9,
   "metadata": {},
   "outputs": [],
   "source": [
    "nodeSet = pre_process_filter(nodeSet)  # pre process for filtering some keywords\n",
    "nodeSet = pre_process_func_name(nodeSet) # pre process for renameing the confilcted functions\n",
    "nodeSet = pro_process_blank_cfv(nodeSet) # pre process for adding content into the blank cfv"
   ]
  },
  {
   "cell_type": "code",
   "execution_count": 10,
   "metadata": {},
   "outputs": [
    {
     "name": "stdout",
     "output_type": "stream",
     "text": [
      "main\n",
      "['{', ';', ';', ';', 'for', '{', ';', '}', 'for', '{', 'for', '{', ';', ';', 'for', '{', 'if', '{', ';', '}', ';', 'if', '{', 'if', '{', ';', '}', 'else', '{', ';', '}', '}', 'else if', '{', ';', '}', ';', '}', ';', '}', '}', '}']\n",
      "init\n",
      "['{', ';', ';', ';', ';', ';', ';', 'while', '{', ';', '}', ';', ';', ';', ';', 'for', '{', ';', ';', '}', ';', '}']\n",
      "usb_init\n",
      "['{', ';', ';', ';', 'while', '{', ';', '}', ';', ';', ';', ';', ';', '}']\n",
      "usb_configured\n",
      "['{', 'return', '}']\n",
      "setup_io_pins\n",
      "['{', ';', ';', ';', 'for', '{', ';', ';', '}', '}']\n",
      "setup_leds\n",
      "['{', ';', ';', '}']\n",
      "setup_bounce_timer\n",
      "['{', ';', ';', ';', ';', '}']\n",
      "pull_column\n",
      "['{', ';', '}']\n",
      "key_press\n",
      "['{', ';', ';', ';', 'if', '{', ';', '}', 'else', '{', 'for', '{', ';', '}', ';', '}', ';', '}']\n",
      "send\n",
      "['{', ';', 'for', '{', ';', '}', ';', ';', '}']\n",
      "usb_keyboard_send\n",
      "['{', ';', 'if', '{', 'return', '}', ';', ';', ';', ';', 'while', '{', 'if', '{', '}', ';', 'if', '{', 'return', '}', 'if', '{', 'return', '}', ';', ';', ';', '}', ';', ';', 'for', '{', ';', '}', ';', ';', ';', 'return', '}']\n",
      "release_column\n",
      "['{', '}']\n"
     ]
    }
   ],
   "source": [
    "for i in range(0,len(nodeSet)):\n",
    "    print(nodeSet[i][\"name\"])\n",
    "    print(nodeSet[i][\"cfv\"])"
   ]
  },
  {
   "cell_type": "code",
   "execution_count": 11,
   "metadata": {},
   "outputs": [],
   "source": [
    "# =================================== locate the vul location ==================================="
   ]
  },
  {
   "cell_type": "code",
   "execution_count": 12,
   "metadata": {},
   "outputs": [],
   "source": [
    "# via the customized hyper parameter, find a suitable place for vulnerability\n",
    "locator = VL.Select_Vul_Location(extractor                         # the cfv extrotor\n",
    "                                 ,dataflow_parameter_input_number  # the hyper parameter - input number\n",
    "                                 ,dataflow_parameter_magic_number  # the hyper parameter - magic number\n",
    "                                 ,dataflow_parameter_checksum)     # the hyper parameter - checksum\n",
    "\n",
    "# the vul_path\n",
    "\n",
    "# e.g. vul_path = [0,10,11,12]\n",
    "#      it means that to trige the vulnerability, you have to pass the No.0 node, No.10 node and No.12 node\n",
    "selectedPath = locator.getSelectedPath()\n",
    "\n",
    "# the nest_weight\n",
    "# it should be used with vul_path and the index of the list indicate the index in vul_path\n",
    "\n",
    "# e.g. nest_weight = [2,1,0,1] && vul_path = [0,10,11,12]\n",
    "\n",
    "# the nest_weight[0] = 2 means in the No.0 node (vul_path[0]), we call the No.10 node (vul_path[1]) function in a \n",
    "#   two-level (nest_weight[0] = 2 ) if nest.\n",
    "# the nest_weight[1] = 1 means in the No.10 node (vul_path[1]), we call the No.11 node (vul_path[2]) function in a \n",
    "#   one-level (nest_weight[1] = 1 ) if nest.\n",
    "#  ````````\n",
    "# the nest_weight[3] = 1 means in the No.12 node (vul_path[1]), we trige the vulnerability in a one-level \n",
    "#   (nest_weight[3] = 1) if nest\n",
    "selectedWeight = locator.getSelectedWeight()\n",
    "\n",
    "# the magic_number_weight\n",
    "# it was conducted by hyper parameter maigc number and the nest_weight\n",
    "\n",
    "# e.g. magic_number_weight = [1,1,0,0] && nest_weight = [2,1,0,1]\n",
    "# the magic number weight is based on the nest_weight\n",
    "# magic_number_weight[0] = 1 means in the 2 input checks (nest_weight[0]=2), the 1 of them will become magic number check\n",
    "magicWeight = locator.getMagicNumberWeight()\n",
    "\n",
    "# the checksum_weight\n",
    "# it was conducted by hyper parameter checksum and the nest_weight\n",
    "\n",
    "# e.g. checksum_weight = [1,1,0,0] && magic_number_weight = [2,1,0,1]\n",
    "# the checksum_weight is based on the magic_number_weight\n",
    "# checksum_weight[0] = 1 means in the 2 magic number check (magic_number_weight[0]=2), the 1 of them will become checksum\n",
    "checksumWeight = locator.getChecksumWeight()"
   ]
  },
  {
   "cell_type": "code",
   "execution_count": 13,
   "metadata": {},
   "outputs": [
    {
     "name": "stdout",
     "output_type": "stream",
     "text": [
      "dataflow_input:\n",
      "3\n",
      "path:\n",
      "[0, 8]\n",
      "cfvWeight:\n",
      "[2, 1]\n",
      "weight:\n",
      "[2, 1]\n",
      "magic number weight:\n",
      "[0, 0]\n",
      "checksum weight:\n",
      "[0, 0]\n"
     ]
    }
   ],
   "source": [
    "locator.displayOutput()"
   ]
  },
  {
   "cell_type": "code",
   "execution_count": 14,
   "metadata": {},
   "outputs": [],
   "source": [
    "# =================================== locate the vul location Ends ==================================="
   ]
  },
  {
   "cell_type": "code",
   "execution_count": 15,
   "metadata": {},
   "outputs": [
    {
     "name": "stdout",
     "output_type": "stream",
     "text": [
      "main\n",
      "['{', ';', ';', ';', 'for', '{', ';', '}', 'for', '{', 'for', '{', ';', ';', 'for', '{', 'if', '{', ';', '}', ';', 'if', '{', 'if', '{', ';', '}', 'else', '{', ';', '}', '}', 'else if', '{', ';', '}', ';', '}', ';', '}', '}', '}']\n",
      "init\n",
      "['{', ';', ';', ';', ';', ';', ';', 'while', '{', ';', '}', ';', ';', ';', ';', 'for', '{', ';', ';', '}', ';', '}']\n",
      "usb_init\n",
      "['{', ';', ';', ';', 'while', '{', ';', '}', ';', ';', ';', ';', ';', '}']\n",
      "usb_configured\n",
      "['{', 'return', '}']\n",
      "setup_io_pins\n",
      "['{', ';', ';', ';', 'for', '{', ';', ';', '}', '}']\n",
      "setup_leds\n",
      "['{', ';', ';', '}']\n",
      "setup_bounce_timer\n",
      "['{', ';', ';', ';', ';', '}']\n",
      "pull_column\n",
      "['{', ';', '}']\n",
      "key_press\n",
      "['{', ';', ';', ';', 'if', '{', ';', '}', 'else', '{', 'for', '{', ';', '}', ';', '}', ';', '}']\n",
      "send\n",
      "['{', ';', 'for', '{', ';', '}', ';', ';', '}']\n",
      "usb_keyboard_send\n",
      "['{', ';', 'if', '{', 'return', '}', ';', ';', ';', ';', 'while', '{', 'if', '{', '}', ';', 'if', '{', 'return', '}', 'if', '{', 'return', '}', ';', ';', ';', '}', ';', ';', 'for', '{', ';', '}', ';', ';', ';', 'return', '}']\n",
      "release_column\n",
      "['{', '}']\n"
     ]
    }
   ],
   "source": [
    "for i in range(0,len(nodeSet)):\n",
    "    print(nodeSet[i][\"name\"])\n",
    "    print(nodeSet[i][\"cfv\"])"
   ]
  },
  {
   "cell_type": "code",
   "execution_count": 16,
   "metadata": {},
   "outputs": [],
   "source": [
    "# =================================== vul location marker ==================================="
   ]
  },
  {
   "cell_type": "code",
   "execution_count": 17,
   "metadata": {},
   "outputs": [],
   "source": [
    "# add the dataflow marks into the node list\n",
    "nodeSet = VM.markDataflow(nodeSet,selectedWeight,selectedPath) "
   ]
  },
  {
   "cell_type": "code",
   "execution_count": 18,
   "metadata": {},
   "outputs": [],
   "source": [
    "# change the definition of functions which in dataflow\n",
    "# add a new parameter named 'unique_parameter' to control that there is only one way to trige the vulnerability\n",
    "nodeSet = VM.changeDefinitions(nodeSet,selectedPath)"
   ]
  },
  {
   "cell_type": "code",
   "execution_count": 19,
   "metadata": {},
   "outputs": [],
   "source": [
    "# =================================== vul location marker Ends ==================================="
   ]
  },
  {
   "cell_type": "code",
   "execution_count": 20,
   "metadata": {},
   "outputs": [
    {
     "name": "stdout",
     "output_type": "stream",
     "text": [
      "main\n",
      "['{', ';', ';', ';', 'for', '{', ';', '}', 'for', '{', 'for', '{', ';', ';', 'for', '{', 'if', '{', ';', '}', ';', 'if', '{', 'if', '{', 'Path/key_press/8', ';', '}', 'else', '{', ';', '}', '}', 'else if', '{', ';', '}', ';', '}', ';', '}', '}', '}']\n",
      "init\n",
      "['{', ';', ';', ';', ';', ';', ';', 'while', '{', ';', '}', ';', ';', ';', ';', 'for', '{', ';', ';', '}', ';', '}']\n",
      "usb_init\n",
      "['{', ';', ';', ';', 'while', '{', ';', '}', ';', ';', ';', ';', ';', '}']\n",
      "usb_configured\n",
      "['{', 'return', '}']\n",
      "setup_io_pins\n",
      "['{', ';', ';', ';', 'for', '{', ';', ';', '}', '}']\n",
      "setup_leds\n",
      "['{', ';', ';', '}']\n",
      "setup_bounce_timer\n",
      "['{', ';', ';', ';', ';', '}']\n",
      "pull_column\n",
      "['{', ';', '}']\n",
      "key_press\n",
      "['{', ';', ';', ';', 'if', '{', 'Vul/KeyStatement', ';', '}', 'else', '{', 'for', '{', ';', '}', ';', '}', ';', '}']\n",
      "send\n",
      "['{', ';', 'for', '{', ';', '}', ';', ';', '}']\n",
      "usb_keyboard_send\n",
      "['{', ';', 'if', '{', 'return', '}', ';', ';', ';', ';', 'while', '{', 'if', '{', '}', ';', 'if', '{', 'return', '}', 'if', '{', 'return', '}', ';', ';', ';', '}', ';', ';', 'for', '{', ';', '}', ';', ';', ';', 'return', '}']\n",
      "release_column\n",
      "['{', '}']\n"
     ]
    }
   ],
   "source": [
    "for i in range(0,len(nodeSet)):\n",
    "    print(nodeSet[i][\"name\"])\n",
    "    print(nodeSet[i][\"cfv\"])"
   ]
  },
  {
   "cell_type": "code",
   "execution_count": 21,
   "metadata": {},
   "outputs": [],
   "source": [
    "# =================================== vul insertion ==================================="
   ]
  },
  {
   "cell_type": "code",
   "execution_count": 22,
   "metadata": {},
   "outputs": [],
   "source": [
    "# get the vul statement from vul lib xml file\n",
    "vul_node = VI.getVulNode(Vul_name,VulLib)\n",
    "# get the variable definition from the xml node\n",
    "vul_definition = VI.getVulDefinition(vul_node) \n",
    "# get the vulnerability statements from the xml node\n",
    "vul_statement,key_index = VI.getVulStatement(vul_node)"
   ]
  },
  {
   "cell_type": "code",
   "execution_count": 23,
   "metadata": {},
   "outputs": [],
   "source": [
    "# get the vul track via the marked node and vulnerability statement\n",
    "vul_track = VI.getVulTrack(nodeSet[selectedPath[-1]][\"cfv\"],  # the marked node (the place to insert the vulnerability)\n",
    "                           vul_statement, # vulnerability satatement \n",
    "                           key_index)     # indicate the key line in statements "
   ]
  },
  {
   "cell_type": "code",
   "execution_count": 24,
   "metadata": {},
   "outputs": [],
   "source": [
    "# use the track to insert the vul code\n",
    "nodeSet[selectedPath[-1]][\"cfv\"] = VI.insertStatementByTrack(vul_track,\n",
    "                                                            nodeSet[selectedPath[-1]][\"cfv\"],\n",
    "                                                            unique_magic_number)\n",
    "# insert the variable definition in the node\n",
    "nodeSet[selectedPath[-1]][\"cfv\"] = VI.insertDefinitions(nodeSet[selectedPath[-1]][\"cfv\"],\n",
    "                                                       vul_definition)"
   ]
  },
  {
   "cell_type": "code",
   "execution_count": 25,
   "metadata": {},
   "outputs": [],
   "source": [
    "# =================================== vul insertion Ends ==================================="
   ]
  },
  {
   "cell_type": "code",
   "execution_count": 26,
   "metadata": {},
   "outputs": [
    {
     "name": "stdout",
     "output_type": "stream",
     "text": [
      "main\n",
      "['{', ';', ';', ';', 'for', '{', ';', '}', 'for', '{', 'for', '{', ';', ';', 'for', '{', 'if', '{', ';', '}', ';', 'if', '{', 'if', '{', 'Path/key_press/8', ';', '}', 'else', '{', ';', '}', '}', 'else if', '{', ';', '}', ';', '}', ';', '}', '}', '}']\n",
      "init\n",
      "['{', ';', ';', ';', ';', ';', ';', 'while', '{', ';', '}', ';', ';', ';', ';', 'for', '{', ';', ';', '}', ';', '}']\n",
      "usb_init\n",
      "['{', ';', ';', ';', 'while', '{', ';', '}', ';', ';', ';', ';', ';', '}']\n",
      "usb_configured\n",
      "['{', 'return', '}']\n",
      "setup_io_pins\n",
      "['{', ';', ';', ';', 'for', '{', ';', ';', '}', '}']\n",
      "setup_leds\n",
      "['{', ';', ';', '}']\n",
      "setup_bounce_timer\n",
      "['{', ';', ';', ';', ';', '}']\n",
      "pull_column\n",
      "['{', ';', '}']\n",
      "key_press\n",
      "['{', 'char * vul_var;', 'vul_var=(char*)malloc(20*sizeof(char));', ';', ';', ';', 'if', '{', 'strcpy(vul_var, \"CWE-761\");', 'if(uni_para == 592)', '{', 'vul_var = vul_var + 1;', '}', 'free(vul_var);', 'Vul/KeyStatement', ';', '}', 'else', '{', 'for', '{', ';', '}', ';', '}', ';', '}']\n",
      "send\n",
      "['{', ';', 'for', '{', ';', '}', ';', ';', '}']\n",
      "usb_keyboard_send\n",
      "['{', ';', 'if', '{', 'return', '}', ';', ';', ';', ';', 'while', '{', 'if', '{', '}', ';', 'if', '{', 'return', '}', 'if', '{', 'return', '}', ';', ';', ';', '}', ';', ';', 'for', '{', ';', '}', ';', ';', ';', 'return', '}']\n",
      "release_column\n",
      "['{', '}']\n"
     ]
    }
   ],
   "source": [
    "for i in range(0,len(nodeSet)):\n",
    "    print(nodeSet[i][\"name\"])\n",
    "    print(nodeSet[i][\"cfv\"])"
   ]
  },
  {
   "cell_type": "code",
   "execution_count": 27,
   "metadata": {},
   "outputs": [],
   "source": [
    "# =================================== insert function call and controller ==================================="
   ]
  },
  {
   "cell_type": "code",
   "execution_count": 28,
   "metadata": {},
   "outputs": [],
   "source": [
    "# insert the function call\n",
    "nodeSet = FCI.insertFunctionCall(nodeSet,selectedPath,unique_magic_number)"
   ]
  },
  {
   "cell_type": "code",
   "execution_count": 29,
   "metadata": {},
   "outputs": [],
   "source": [
    "number = 0\n",
    "for index in selectedPath:\n",
    "    position = FCI.locateController(nodeSet[index][\"cfv\"])\n",
    "    magic_number_list = [0]*selectedWeight[number]\n",
    "    \n",
    "    temp = magicWeight[number]\n",
    "    while temp != 0:\n",
    "        index_magic = random.randint(0,selectedWeight[number]-1)\n",
    "        if  magic_number_list[index_magic] == 0:\n",
    "            temp-=1\n",
    "            magic_number_list[index_magic]+=1\n",
    "            \n",
    "    temp = checksumWeight[number]\n",
    "    while temp != 0:\n",
    "        index_magic = random.randint(0,selectedWeight[number]-1)\n",
    "        if  magic_number_list[index_magic] == 1:\n",
    "            temp-=1\n",
    "            magic_number_list[index_magic]+=1\n",
    "    \n",
    "    \n",
    "    nodeSet[index] = FCI.insertController(nodeSet[index],\n",
    "                                          position,\n",
    "                                          dataflow_parameter_magic_number_length_min,\n",
    "                                          dataflow_parameter_magic_number_length_max,\n",
    "                                          magic_number_list,\n",
    "                                          dataflow_parameter_checksum_type,\n",
    "                                           dataflow_parameter_checksum_div)\n",
    "    nodeSet[index][\"cfv\"] = FCI.uselessIfInsertion(nodeSet[index][\"cfv\"])\n",
    "    number+=1"
   ]
  },
  {
   "cell_type": "code",
   "execution_count": 30,
   "metadata": {},
   "outputs": [],
   "source": [
    "# =================================== insert function call and controller Ends ==================================="
   ]
  },
  {
   "cell_type": "code",
   "execution_count": 31,
   "metadata": {},
   "outputs": [
    {
     "name": "stdout",
     "output_type": "stream",
     "text": [
      "main\n",
      "['{', ';', ';', ';', 'for', '{', ';', '}', 'for/1', '{', 'for/1', '{', ';', ';', 'for/1', '{', 'if(1)', '{', ';', '}', ';', 'char controller4vul_1[1];', 'fgets(controller4vul_1 ,2 ,stdin);', 'if( strcmp( controller4vul_1, \"M\") < 0)', '{', 'char controller4vul_2[5];', 'fgets(controller4vul_2 ,6 ,stdin);', 'if( strcmp( controller4vul_2, \"H%q@R\") < 0)', '{', '#void  = key_press(#char,#controller4unique)', ';', '}', 'else', '{', ';', '}', '}', 'else if', '{', ';', '}', ';', '}', ';', '}', '}', '}']\n",
      "init\n",
      "['{', ';', ';', ';', ';', ';', ';', 'while', '{', ';', '}', ';', ';', ';', ';', 'for', '{', ';', ';', '}', ';', '}']\n",
      "usb_init\n",
      "['{', ';', ';', ';', 'while', '{', ';', '}', ';', ';', ';', ';', ';', '}']\n",
      "usb_configured\n",
      "['{', 'return', '}']\n",
      "setup_io_pins\n",
      "['{', ';', ';', ';', 'for', '{', ';', ';', '}', '}']\n",
      "setup_leds\n",
      "['{', ';', ';', '}']\n",
      "setup_bounce_timer\n",
      "['{', ';', ';', ';', ';', '}']\n",
      "pull_column\n",
      "['{', ';', '}']\n",
      "key_press\n",
      "['{', 'char * vul_var;', 'vul_var=(char*)malloc(20*sizeof(char));', ';', ';', ';', 'char controller4vul_3[1];', 'fgets(controller4vul_3 ,2 ,stdin);', 'if( strcmp( controller4vul_3, \"$\") > 0)', '{', 'strcpy(vul_var, \"CWE-761\");', 'if(uni_para == 592)', '{', 'vul_var = vul_var + 1;', '}', 'free(vul_var);', 'Vul/KeyStatement', ';', '}', 'else', '{', 'for', '{', ';', '}', ';', '}', ';', '}']\n",
      "send\n",
      "['{', ';', 'for', '{', ';', '}', ';', ';', '}']\n",
      "usb_keyboard_send\n",
      "['{', ';', 'if', '{', 'return', '}', ';', ';', ';', ';', 'while', '{', 'if', '{', '}', ';', 'if', '{', 'return', '}', 'if', '{', 'return', '}', ';', ';', ';', '}', ';', ';', 'for', '{', ';', '}', ';', ';', ';', 'return', '}']\n",
      "release_column\n",
      "['{', '}']\n"
     ]
    }
   ],
   "source": [
    "for i in range(0,len(nodeSet)):\n",
    "    print(nodeSet[i][\"name\"])\n",
    "    print(nodeSet[i][\"cfv\"])"
   ]
  },
  {
   "cell_type": "code",
   "execution_count": 32,
   "metadata": {},
   "outputs": [],
   "source": [
    "# =================================== environment key statement insertion generation ==================================="
   ]
  },
  {
   "cell_type": "code",
   "execution_count": 33,
   "metadata": {},
   "outputs": [],
   "source": [
    "def scanIFinEnvironment(nodeSet):\n",
    "    node_if_numbers = [0] *  len(nodeSet)\n",
    "    for index in range(0,len(nodeSet)):\n",
    "        cfv = nodeSet[index][\"cfv\"]\n",
    "        for i in range(0,len(cfv)):\n",
    "            if cfv[i] == \"if\" or cfv[i] == \"else if\":\n",
    "                node_if_numbers[index] += 1\n",
    "    return node_if_numbers"
   ]
  },
  {
   "cell_type": "code",
   "execution_count": 34,
   "metadata": {},
   "outputs": [],
   "source": [
    "def allocateNumbers(number_lsit,limit_times):\n",
    "    result_list = [0] * len(number_lsit)\n",
    "    temp = limit_times\n",
    "    while temp != 0:\n",
    "        index = random.randint(0,len(number_lsit)-1)\n",
    "        if  result_list[index] < number_lsit[index]:\n",
    "            temp-=1\n",
    "            result_list[index]+=1\n",
    "    \n",
    "    return result_list\n",
    "\n",
    "\n",
    "def changeNumber2List(source_list,target_list):\n",
    "    result_list = []\n",
    "    for i in range(0,len(source_list)):\n",
    "        temp_list = [0] * source_list[i]\n",
    "        limit = target_list[i]\n",
    "        while limit != 0:\n",
    "            index = random.randint(0,source_list[i]-1)\n",
    "            if temp_list[index] == 0:\n",
    "                limit-=1\n",
    "                temp_list[index]+=1\n",
    "        result_list.append(temp_list)\n",
    "    return result_list\n",
    "\n",
    "\n",
    "def recordBranchIndex(branch_list,level):\n",
    "    result_list = []\n",
    "    for i in range(0,len(branch_list)):\n",
    "        for j in range(0,len(branch_list[i])):\n",
    "            if branch_list[i][j]==level:\n",
    "                result_list.append([i,j])\n",
    "    return result_list\n",
    "\n",
    "def addNumberIntoBranch(branch_list,level,limit,record):\n",
    "    result_list = copy.copy(branch_list)\n",
    "    temp_list = [level] * len(record)\n",
    "    \n",
    "    temp = limit\n",
    "    while temp!=0:\n",
    "        index = random.randint(0,len(temp_list)-1)\n",
    "        if temp_list[index]==level:\n",
    "            temp-=1\n",
    "            temp_list[index]+=1\n",
    "    \n",
    "    for index in range(0,len(record)):\n",
    "        result_list[record[index][0]][record[index][1]] = temp_list[index]\n",
    "    \n",
    "    return result_list"
   ]
  },
  {
   "cell_type": "code",
   "execution_count": 35,
   "metadata": {},
   "outputs": [],
   "source": [
    "node_if_numbers = scanIFinEnvironment(nodeSet)\n",
    "\n",
    "branch_list = allocateNumbers(node_if_numbers,environment_parameter_branches)\n",
    "\n",
    "branch_list = changeNumber2List(node_if_numbers,branch_list)\n",
    "\n",
    "record4magic_number = recordBranchIndex(branch_list,1)\n",
    "\n",
    "branch_list = addNumberIntoBranch(branch_list,1,environment_parameter_magic_number,record4magic_number)\n",
    "\n",
    "record4checksum = recordBranchIndex(branch_list,2)\n",
    "\n",
    "branch_list = addNumberIntoBranch(branch_list,2,environment_parameter_checksum_number,record4checksum)"
   ]
  },
  {
   "cell_type": "code",
   "execution_count": 36,
   "metadata": {},
   "outputs": [],
   "source": [
    "for index in range(0,len(nodeSet)):\n",
    "    func_flag = 1\n",
    "    if index in selectedPath:\n",
    "        func_flag = 0\n",
    "    statementInserter = EKSI.StatementInserter(nodeSet[index],\n",
    "                                          environment_parameter_loop_times_min,\n",
    "                                          environment_parameter_loop_times_max,\n",
    "                                          branch_list[index],\n",
    "                                          environment_parameter_magic_number_length_min,\n",
    "                                          environment_parameter_magic_number_length_max,\n",
    "                                          environment_parameter_checksum_type,\n",
    "                                          environment_parameter_checksum_div,\n",
    "                                          func_flag)\n",
    "    nodeSet[index][\"cfv\"] = statementInserter.getCFV()\n",
    "    del statementInserter"
   ]
  },
  {
   "cell_type": "code",
   "execution_count": 37,
   "metadata": {},
   "outputs": [],
   "source": [
    "# =================================== environment key statement insertion generation Ends ==================================="
   ]
  },
  {
   "cell_type": "code",
   "execution_count": 38,
   "metadata": {},
   "outputs": [
    {
     "name": "stdout",
     "output_type": "stream",
     "text": [
      "main\n",
      "['{', ';', ';', ';', 'for(int looper_1=0; looper_1<3;looper_1++)', '{', ';', '}', 'for(int looper_2=0; looper_2<1;looper_2++)', '{', 'for(int looper_3=0; looper_3<1;looper_3++)', '{', ';', ';', 'for(int looper_4=0; looper_4<1;looper_4++)', '{', 'if(1)', '{', ';', '}', ';', 'char controller4vul_1[1];', 'fgets(controller4vul_1 ,2 ,stdin);', 'if( strcmp( controller4vul_1, \"M\") < 0)', '{', 'char controller4vul_2[5];', 'fgets(controller4vul_2 ,6 ,stdin);', 'if( strcmp( controller4vul_2, \"H%q@R\") < 0)', '{', '#void  = key_press(#char,#controller4unique)', ';', '}', 'else', '{', ';', '}', '}', 'char controller_1[5];', 'fgets(controller_1 ,5 ,stdin);', 'if( strcmp( controller_1, \"33K5\") > 0)', '{', ';', '}', ';', '}', ';', '}', '}', '}']\n",
      "init\n",
      "['{', '#setup_leds(#void)', ';', ';', ';', ';', ';', ';', 'int looper_1 = 0;', 'while(looper_1 < 6)', '{', 'looper_1 += 1;', '#setup_bounce_timer(#void)', ';', '}', ';', '#usb_init(#void)', ';', '#unsigned int = usb_configured(#void)', '#setup_io_pins(#void)', ';', ';', 'for(int looper_2=0; looper_2<7;looper_2++)', '{', ';', ';', '}', ';', '}']\n",
      "usb_init\n",
      "['{', ';', ';', ';', 'int looper_1 = 0;', 'while(looper_1 < 5)', '{', 'looper_1 += 1;', ';', '}', ';', ';', ';', ';', ';', '}']\n",
      "usb_configured\n",
      "['{', 'return', '}']\n",
      "setup_io_pins\n",
      "['{', ';', ';', ';', 'for(int looper_1=0; looper_1<3;looper_1++)', '{', ';', ';', '}', '}']\n",
      "setup_leds\n",
      "['{', ';', ';', '}']\n",
      "setup_bounce_timer\n",
      "['{', ';', ';', ';', ';', '}']\n",
      "pull_column\n",
      "['{', ';', '}']\n",
      "key_press\n",
      "['{', 'char * vul_var;', 'vul_var=(char*)malloc(20*sizeof(char));', ';', ';', ';', 'char controller4vul_3[1];', 'fgets(controller4vul_3 ,2 ,stdin);', 'if( strcmp( controller4vul_3, \"$\") > 0)', '{', 'strcpy(vul_var, \"CWE-761\");', 'if(uni_para == 592)', '{', 'vul_var = vul_var + 1;', '}', 'free(vul_var);', 'Vul/KeyStatement', ';', '}', 'else', '{', 'for(int looper_1=0; looper_1<10;looper_1++)', '{', ';', '}', ';', '}', ';', '}']\n",
      "send\n",
      "['{', ';', 'for(int looper_1=0; looper_1<2;looper_1++)', '{', ';', '}', '#usb_keyboard_send(#void)', ';', ';', '}']\n",
      "usb_keyboard_send\n",
      "['{', ';', 'if(1)', '{', 'return', '}', ';', ';', ';', ';', 'int looper_1 = 0;', 'while(looper_1 < 8)', '{', 'looper_1 += 1;', 'char controller_2[2];', 'fgets(controller_2 ,2 ,stdin);', 'if( strcmp( controller_2, \"X\") > 0)', '{', '}', ';', 'char controller_3[3];', 'fgets(controller_3 ,3 ,stdin);', 'if( strcmp( controller_3, \"S8\") < 0)', '{', 'return', '}', 'if(1)', '{', 'return', '}', ';', ';', ';', '}', ';', ';', 'for(int looper_2=0; looper_2<2;looper_2++)', '{', ';', '}', ';', ';', ';', 'return', '}']\n",
      "release_column\n",
      "['{', '}']\n"
     ]
    }
   ],
   "source": [
    "for i in range(0,len(nodeSet)):\n",
    "    print(nodeSet[i][\"name\"])\n",
    "    print(nodeSet[i][\"cfv\"])"
   ]
  },
  {
   "cell_type": "code",
   "execution_count": 39,
   "metadata": {},
   "outputs": [],
   "source": [
    "# =================================== environment code generation ==================================="
   ]
  },
  {
   "cell_type": "code",
   "execution_count": 40,
   "metadata": {},
   "outputs": [
    {
     "name": "stdout",
     "output_type": "stream",
     "text": [
      "['{-1-', ';-1', ';-1', ';-1', 'for(int looper_1=0; looper_1<3;looper_1++)', '{-1_1-', ';-1_1', '}', 'for(int looper_2=0; looper_2<1;looper_2++)', '{-1_2-', 'for(int looper_3=0; looper_3<1;looper_3++)', '{-1_2_1-', ';-1_2_1', ';-1_2_1', 'for(int looper_4=0; looper_4<1;looper_4++)', '{-1_2_1_1-', 'if(1)', '{-1_2_1_1_1-', ';-1_2_1_1_1', '}', ';-1_2_1_1', 'char controller4vul_1[1];', 'fgets(controller4vul_1 ,2 ,stdin);', 'if( strcmp( controller4vul_1, \"M\") < 0)', '{-1_2_1_1_2-', 'char controller4vul_2[5];', 'fgets(controller4vul_2 ,6 ,stdin);', 'if( strcmp( controller4vul_2, \"H%q@R\") < 0)', '{-1_2_1_1_2_1-', '#void  = key_press(#char,#controller4unique)', ';-1_2_1_1_2_1', '}', 'else', '{-1_2_1_1_2_2-', ';-1_2_1_1_2_2', '}', '}', 'char controller_1[5];', 'fgets(controller_1 ,5 ,stdin);', 'if( strcmp( controller_1, \"33K5\") > 0)', '{-1_2_1_1_3-', ';-1_2_1_1_3', '}', ';-1_2_1_1', '}', ';-1_2_1', '}', '}', '}']\n",
      "['{-1-', '#setup_leds(#void)', ';-1', ';-1', ';-1', ';-1', ';-1', ';-1', 'int looper_1 = 0;', 'while(looper_1 < 6)', '{-1_1-', 'looper_1 += 1;', '#setup_bounce_timer(#void)', ';-1_1', '}', ';-1', '#usb_init(#void)', ';-1', '#unsigned int = usb_configured(#void)', '#setup_io_pins(#void)', ';-1', ';-1', 'for(int looper_2=0; looper_2<7;looper_2++)', '{-1_2-', ';-1_2', ';-1_2', '}', ';-1', '}']\n",
      "['{-1-', ';-1', ';-1', ';-1', 'int looper_1 = 0;', 'while(looper_1 < 5)', '{-1_1-', 'looper_1 += 1;', ';-1_1', '}', ';-1', ';-1', ';-1', ';-1', ';-1', '}']\n",
      "['{-1-', 'return', '}']\n",
      "['{-1-', ';-1', ';-1', ';-1', 'for(int looper_1=0; looper_1<3;looper_1++)', '{-1_1-', ';-1_1', ';-1_1', '}', '}']\n",
      "['{-1-', ';-1', ';-1', '}']\n",
      "['{-1-', ';-1', ';-1', ';-1', ';-1', '}']\n",
      "['{-1-', ';-1', '}']\n",
      "['{-1-', 'char * vul_var;', 'vul_var=(char*)malloc(20*sizeof(char));', ';-1', ';-1', ';-1', 'char controller4vul_3[1];', 'fgets(controller4vul_3 ,2 ,stdin);', 'if( strcmp( controller4vul_3, \"$\") > 0)', '{-1_1-', 'strcpy(vul_var, \"CWE-761\");', 'if(uni_para == 592)', '{-1_1_1-', 'vul_var = vul_var + 1;', '}', 'free(vul_var);', 'Vul/KeyStatement', ';-1_1', '}', 'else', '{-1_2-', 'for(int looper_1=0; looper_1<10;looper_1++)', '{-1_2_2-', ';-1_2_2', '}', ';-1_2', '}', ';-1', '}']\n",
      "['{-1-', ';-1', 'for(int looper_1=0; looper_1<2;looper_1++)', '{-1_1-', ';-1_1', '}', '#usb_keyboard_send(#void)', ';-1', ';-1', '}']\n",
      "['{-1-', ';-1', 'if(1)', '{-1_1-', 'return', '}', ';-1', ';-1', ';-1', ';-1', 'int looper_1 = 0;', 'while(looper_1 < 8)', '{-1_2-', 'looper_1 += 1;', 'char controller_2[2];', 'fgets(controller_2 ,2 ,stdin);', 'if( strcmp( controller_2, \"X\") > 0)', '{-1_2_1-', '}', ';-1_2', 'char controller_3[3];', 'fgets(controller_3 ,3 ,stdin);', 'if( strcmp( controller_3, \"S8\") < 0)', '{-1_2_2-', 'return', '}', 'if(1)', '{-1_2_3-', 'return', '}', ';-1_2', ';-1_2', ';-1_2', '}', ';-1', ';-1', 'for(int looper_2=0; looper_2<2;looper_2++)', '{-1_3-', ';-1_3', '}', ';-1', ';-1', ';-1', 'return', '}']\n",
      "['{-1-', '}']\n"
     ]
    }
   ],
   "source": [
    "for index in range(0,len(nodeSet)):\n",
    "    generator = ECG.CodeGenerator(GrammarTree,nodeSet,index,selectedPath,unique_magic_number)\n",
    "    nodeSet[index][\"cfv\"] = generator.getCFV()"
   ]
  },
  {
   "cell_type": "code",
   "execution_count": 41,
   "metadata": {},
   "outputs": [],
   "source": [
    "# =================================== environment code generation Ends ==================================="
   ]
  },
  {
   "cell_type": "code",
   "execution_count": 42,
   "metadata": {},
   "outputs": [],
   "source": [
    "# =================================== formalization ==================================="
   ]
  },
  {
   "cell_type": "code",
   "execution_count": 43,
   "metadata": {},
   "outputs": [],
   "source": [
    "trackPath = \"\"\n",
    "if \"/\" in FilePath:\n",
    "    filename = FilePath.split(\"/\")[-1].split(\".\")[0]\n",
    "    trackPath = filename +\".txt\"\n",
    "    \n",
    "with open(trackPath,\"w\",encoding=\"utf-8\") as f:\n",
    "    f.truncate()\n",
    "    \n",
    "    # write the track\n",
    "    track = Formal.getTrackContent(selectedPath,nodeSet)\n",
    "    f.write(track)\n",
    "    \n",
    "    # write the parameters\n",
    "    parameter_content = getParameters()\n",
    "    f.write(parameter_content)\n"
   ]
  },
  {
   "cell_type": "code",
   "execution_count": 44,
   "metadata": {},
   "outputs": [],
   "source": [
    "nodeSet[selectedPath[-1]][\"cfv\"] = Formal.cleanVulMark(nodeSet[selectedPath[-1]][\"cfv\"])\n",
    "nodeSet[0][\"cfv\"].insert(1,\"int uni_para =\"+str(unique_magic_number)+\";\")"
   ]
  },
  {
   "cell_type": "code",
   "execution_count": 45,
   "metadata": {},
   "outputs": [],
   "source": [
    "CPath = \"\"\n",
    "if \"/\" in FilePath:\n",
    "    filename = FilePath.split(\"/\")[-1].split(\".\")[0]\n",
    "    CPath = filename +\".c\"\n",
    "    \n",
    "with open(CPath,\"w\",encoding=\"utf-8\") as f:\n",
    "    f.truncate()\n",
    "    \n",
    "    header_content = Formal.header4program(GrammarTree,vul_node)\n",
    "    f.write(header_content)\n",
    "    \n",
    "    checksum = Formal.swithForChecksum(dataflow_parameter_checksum_type)\n",
    "    f.write(checksum[0])\n",
    "    f.write(checksum[1])\n",
    "    if dataflow_parameter_checksum_type != environment_parameter_checksum_type:\n",
    "        checksum = Formal.swithForChecksum(environment_parameter_checksum_type)\n",
    "        f.write(checksum[0])\n",
    "        f.write(checksum[1])\n",
    "    \n",
    "    for index in range(len(nodeSet)-1,0,-1):\n",
    "        definition = Formal.Definition2Code(nodeSet,index)+\";\\n\"\n",
    "        f.write(definition)\n",
    "    for index in range(len(nodeSet)-1,-1,-1):\n",
    "        content = Formal.Node2Code(nodeSet,index)\n",
    "        f.write(content)"
   ]
  },
  {
   "cell_type": "code",
   "execution_count": 46,
   "metadata": {},
   "outputs": [],
   "source": [
    "# =================================== formalization Ends ==================================="
   ]
  }
 ],
 "metadata": {
  "kernelspec": {
   "display_name": "Python 3",
   "language": "python",
   "name": "python3"
  },
  "language_info": {
   "codemirror_mode": {
    "name": "ipython",
    "version": 3
   },
   "file_extension": ".py",
   "mimetype": "text/x-python",
   "name": "python",
   "nbconvert_exporter": "python",
   "pygments_lexer": "ipython3",
   "version": "3.7.0"
  }
 },
 "nbformat": 4,
 "nbformat_minor": 2
}
