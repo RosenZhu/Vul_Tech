{
 "cells": [
  {
   "cell_type": "code",
   "execution_count": 1,
   "metadata": {},
   "outputs": [],
   "source": [
    "# CFV Extrate                                 \\\\   Finish \n",
    "\n",
    "# Pre process\n",
    "    #  1) delete all return statements then add it in the end of function\n",
    "\n",
    "# Select Vulnerability Location               \\\\   Finish\n",
    "    #  1) change the allocate weight method   \\\\   Finish\n",
    "    #  2) allocate the magic number weight    \\\\   Finish\n",
    "    #  3) add one more parameter to the function\n",
    "    #     to make the path unique             \\\\   Finish\n",
    "\n",
    "# Dataflow Marker                             \\\\   Finish \n",
    "    #  1) change the definition parameters    \\\\   Finish  \n",
    "    \n",
    "# Vulnerability Insertion                     \\\\   Finish\n",
    "    #  1) use the track to insert vul code    \\\\   Finish\n",
    "      \n",
    "# Function Call & Controller Insertion        \\\\   Finish\n",
    "    #  1) checksum parameter controller       \\\\   Finish    \n",
    "    #  2) magic number length parameter       \\\\   Finish    \n",
    "    #  3) change input type to \"scanf\"        \\\\   Finish  \n",
    "    #  4）change the comparation expression   \\\\   Finish\n",
    "    \n",
    "# Key Words Statements Insertion              \\\\   Finish\n",
    "    #  1) change the loop and if statements   \\\\   Finish\n",
    "    #  2) fix the bug                         \\\\   Finish \n",
    "    #  3) add the magic parameter controller  \\\\   Finish\n",
    "    #  4）add function call                   \\\\   Finish\n",
    "    #  5) more key words processor            \\\\   Finish\n",
    "    #  6) add if numbers controller parameter \\\\   Finish\n",
    "    #  7) remove some special symbols         \\\\   Finish \n",
    "    \n",
    "# Environment Code Generation                 \\\\   Finish\n",
    "    #  1) add unique function call processor  \\\\   Finish   \n",
    "    \n",
    "# Formalization                               \\\\   Finish\n",
    "    #  1) add includings                      \\\\   Finish\n",
    "    #  2) add vul lib includings              \\\\   Finish\n",
    "\n",
    "# Known Bug:\n",
    "#    1) the optional question in environment code generation\n",
    "#    2) the function calls may be inserted in front of the dataflow     (Fixed)\n",
    "\n",
    "# TO DO :\n",
    "#    1) add fake vulberability "
   ]
  },
  {
   "cell_type": "code",
   "execution_count": 2,
   "metadata": {},
   "outputs": [],
   "source": [
    "import os\n",
    "from xml.dom.minidom import parse\n",
    "import xml.dom.minidom\n",
    "import numpy as np\n",
    "import random\n",
    "import csv\n",
    "import networkx as nx\n",
    "import unicodedata\n",
    "import copy\n",
    "\n",
    "import CFV_Extractor as CE\n",
    "import Select_Vul_Location as VL\n",
    "import FuncCall_Controller_Insertion as FCI\n",
    "import Vul_Marker as VM\n",
    "import Vul_Insertion as VI\n",
    "import Environment_Code_Generator as ECG\n",
    "import Environment_Key_Statement_Insertion as EKSI\n",
    "import Formalization as Formal\n",
    "\n",
    "\n",
    "GrammarTree = r\"./GrammarTree.xml\" # the grammar tree path\n",
    "VulLib = r\"./VulnerabilityLib.xml\" # the vulnerability lib path\n",
    "\n",
    "FilePath = \"./biscuit_1.gpickle\"\n",
    "gpickleCSV = \"./gpickle.csv\""
   ]
  },
  {
   "cell_type": "code",
   "execution_count": 3,
   "metadata": {},
   "outputs": [],
   "source": [
    "# ================ ulit parameters =======================\n",
    "\n",
    "# the unique path check number\n",
    "unique_magic_number = random.randint(0,1000)\n",
    "\n",
    "# the chose vulnerability name\n",
    "Vul_name = \"CWE-761\"\n",
    "\n",
    "# dataflow parameters and environment parameters\n",
    "\n",
    "# ================ dataflow parameters =====================\n",
    "\n",
    "# the input number indicte the deepth of the vulnerability\n",
    "# e.g. ' input_number = 10 ' means the vulnerability was hiden in \n",
    "#       a 10 deepth input nest (if you want to trige the vulnerability,\n",
    "#       you have to pass the 10 if-input-checks)\n",
    "#  the input check looks like ' if( strcmp(controller_1,\"abcd\") > 0)'\n",
    "dataflow_parameter_input_number = 10            \n",
    "            \n",
    "# the magic number based on input numbers\n",
    "# e.g. ' magic_number = 1 '\n",
    "#       if the input_number equals 10, one of them will become a \n",
    "#       magic number check\n",
    "#  the magic number check looks like ' if( strcmp(controller_1,\"abcd\") == 0) ' \n",
    "dataflow_parameter_magic_number = 1           \n",
    "            \n",
    "            \n",
    "# the magic_number_mix and max limit the input length\n",
    "# for e.g. ' min = 1 && max = 5 ' means the length of the magic number check will be randonly picked from 1 to 5\n",
    "dataflow_parameter_magic_number_length_min = 1\n",
    "dataflow_parameter_magic_number_length_max = 5\n",
    "\n",
    "# the checksum number based on magic numbers\n",
    "# e.g. ' checksum = 1 ' \n",
    "#       if the input_number equals 10, one of them will become a \n",
    "#       checksum check\n",
    "dataflow_parameter_checksum = 0\n",
    "# the type number of checksum\n",
    "# 1 = remainder_check\n",
    "# 2 = .....(to be continued)\n",
    "# the checksum check look like ' if(remainder_check(controller_1,checksum_div,length_of_controller_1) '\n",
    "# more detail about the checksum function , please see 'Formalization.py'\n",
    "dataflow_parameter_checksum_type = 1\n",
    "# the dividend for remainder_checksum\n",
    "dataflow_parameter_checksum_div = 100\n",
    "\n",
    "\n",
    "\n",
    "# ================ environment parameters =====================\n",
    "\n",
    "# branches means the input check numbers in environment code\n",
    "# e.g. ' branches = 100 ' means there are 100 input checks in the environment code\n",
    "environment_parameter_branches = 10\n",
    "\n",
    "environment_parameter_magic_number_length_min = 1  # same meaning with dataflow one but in environment\n",
    "environment_parameter_magic_number_length_max = 5  # same meaning with dataflow one but in environment\n",
    "environment_parameter_magic_number = 0             # same meaning with dataflow one but in environment\n",
    "\n",
    "environment_parameter_checksum_type = 1     # same meaning with dataflow one but in environment\n",
    "environment_parameter_checksum_div = 100    # same meaning with dataflow one but in environment\n",
    "environment_parameter_checksum_number = 0   # same meaning with dataflow one but in environment\n",
    "\n",
    "# control loop time of all the loopers in environment code\n",
    "environment_paramenter_loop_time = 1\n"
   ]
  },
  {
   "cell_type": "code",
   "execution_count": 4,
   "metadata": {},
   "outputs": [],
   "source": [
    "# abandoned function\n",
    "# to test the function callee and caller`s relationship in their refids and refedids\n",
    "def recover_test():\n",
    "    for i in range(1,len(selectedPath)):\n",
    "        if nodeSet[selectedPath[i]][\"id\"] in nodeSet[selectedPath[i-1]][\"refids\"]:\n",
    "            print(\"1\")\n",
    "        else:\n",
    "            print(\"2\")\n",
    "\n",
    "    for i in range(1,len(selectedPath)):\n",
    "        if nodeSet[selectedPath[i-1]][\"id\"] in nodeSet[selectedPath[i]][\"refedids\"]:\n",
    "            print(\"3\")\n",
    "        else:\n",
    "            print(\"4\")"
   ]
  },
  {
   "cell_type": "code",
   "execution_count": 5,
   "metadata": {},
   "outputs": [],
   "source": [
    "# test-use only\n",
    "# display the vulnerablity related data:\n",
    "#     1) vul_path\n",
    "#     2) nest_path_weight\n",
    "#     3) maigc_number_weight\n",
    "#     4) checksum_weight\n",
    "def display_vul_path():\n",
    "    for i in range(0,len(selectedPath)):\n",
    "        print(nodeSet[selectedPath[i]][\"name\"])\n",
    "        print(nodeSet[selectedPath[i]][\"cfv\"])\n",
    "        print(\"==================================\")\n",
    "    print(\"vul_path:\")\n",
    "    print(selectedPath)\n",
    "    print(\"path_weight:\")\n",
    "    print(selectedWeight)\n",
    "    print(\"magic number weight\")\n",
    "    print(magicWeight)\n",
    "    print(\"checksum weight\")\n",
    "    print(checksumWeight)"
   ]
  },
  {
   "cell_type": "code",
   "execution_count": 6,
   "metadata": {},
   "outputs": [],
   "source": [
    "# get all hyper parameters and organize them in a txt content format\n",
    "def getParameters():\n",
    "    \n",
    "    content = \"\"\n",
    "    \n",
    "    # ulit parameters\n",
    "    content += \"\\n\\n================= ulit parameters ======================\\n\\n\"\n",
    "    content += \"unique_magic_number = \"+ str(unique_magic_number)+\"\\n\"\n",
    "    content += \"vulnerability_name = \"+ str(Vul_name)+\"\\n\"\n",
    "    content += \"\\n================= ulit parameters ends ======================\"\n",
    "    \n",
    "    # dataflow parameters\n",
    "    content +=\"\\n\\n================= dataflow parameters ======================\\n\\n\"\n",
    "    content +=\"dataflow_parameter_input_number = \"+str(dataflow_parameter_input_number)+\"\\n\\n\"\n",
    "    content +=\"dataflow_parameter_magic_number = \"+str(dataflow_parameter_magic_number)+\"\\n\"\n",
    "    content +=\"dataflow_parameter_magic_number_length_min = \"+str(dataflow_parameter_magic_number_length_min)+\"\\n\"\n",
    "    content +=\"dataflow_parameter_magic_number_length_max = \"+str(dataflow_parameter_magic_number_length_max)+\"\\n\\n\"\n",
    "    content +=\"dataflow_parameter_checksum_type = \"+str(dataflow_parameter_checksum_type)+\"\\n\"\n",
    "    content +=\"dataflow_parameter_checksum_div = \"+str(dataflow_parameter_checksum_div)+\"\\n\"\n",
    "    content +=\"dataflow_parameter_checksum = \"+str(dataflow_parameter_checksum)+\"\\n\"\n",
    "    content +=\"\\n================= dataflow parameters ends ======================\"\n",
    "\n",
    "    # environment parameters\n",
    "    content +=\"\\n\\n================= environment parameters ======================\\n\\n\"\n",
    "    content +=\"environment_parameter_branches = \"+str(environment_parameter_branches)+\"\\n\\n\"\n",
    "    content +=\"environment_parameter_magic_number_length_min = \"+str(environment_parameter_magic_number_length_min)+\"\\n\"\n",
    "    content +=\"environment_parameter_magic_number_length_max = \"+str(environment_parameter_magic_number_length_max)+\"\\n\"\n",
    "    content +=\"environment_parameter_magic_number = \"+str(environment_parameter_magic_number)+\"\\n\\n\"\n",
    "    content +=\"environment_parameter_checksum_type = \"+str(environment_parameter_checksum_type)+\"\\n\"\n",
    "    content +=\"environment_parameter_checksum_div = \"+str(environment_parameter_checksum_div)+\"\\n\"\n",
    "    content +=\"environment_parameter_checksum_number = \"+str(environment_parameter_checksum_number)+\"\\n\\n\"\n",
    "    content +=\"environment_paramenter_loop_time = \"+str(environment_paramenter_loop_time)+\"\\n\"\n",
    "    content +=\"\\n================= environment parameters ends ======================\"\n",
    "    \n",
    "    return content"
   ]
  },
  {
   "cell_type": "code",
   "execution_count": 7,
   "metadata": {},
   "outputs": [],
   "source": [
    "# filter for the word list\n",
    "# filter all keyword in 'filter_list'\n",
    "# parameter: nodeSet -> which contains all the function node\n",
    "def pre_process_filter(nodeSet):\n",
    "    filter_list = [\"switch\",\"case\",\"?:\",\"break\",\"default\",\"continue\"]\n",
    "    for i in range(0,len(nodeSet)):\n",
    "        index = 0\n",
    "        while index<len(nodeSet[i][\"cfv\"]):\n",
    "            if nodeSet[i][\"cfv\"][index] in filter_list:\n",
    "                del nodeSet[i][\"cfv\"][index]\n",
    "            else:\n",
    "                index+=1\n",
    "        \n",
    "    return nodeSet\n",
    "                \n",
    "# rename the confilcted function name\n",
    "# add a prefix in the confilcted name and change the name in all reference or referenced call\n",
    "# parameter: nodeSet -> which contains all the function node\n",
    "def pre_process_func_name(nodeSet):\n",
    "    func_name_list = []\n",
    "    for i in range(0,len(nodeSet)):\n",
    "        if nodeSet[i][\"name\"] not in func_name_list:\n",
    "            func_name_list.append(nodeSet[i][\"name\"])\n",
    "        else:\n",
    "            new_name = \"new_\"+nodeSet[i][\"name\"]\n",
    "            old_name = nodeSet[i][\"name\"]\n",
    "            retType = nodeSet[i][\"full_definition\"].split(nodeSet[i][\"name\"])[0].strip()\n",
    "            \n",
    "            nodeSet[i][\"full_definition\"] = nodeSet[i][\"full_definition\"].replace(old_name,new_name)\n",
    "            nodeSet[i][\"name\"] = new_name \n",
    "            \n",
    "            # replace the old name in refDef of other nodes with new name\n",
    "            for index in range(0,len(nodeSet)):\n",
    "                for j in range(0,len(nodeSet[index][\"refDef\"])):\n",
    "                    if nodeSet[index][\"refDef\"][j][0] == old_name:\n",
    "                        if nodeSet[index][\"refDef\"][j][1].split(old_name)[0].strip()==retType:\n",
    "                            refDef = (new_name,nodeSet[index][\"refDef\"][j][1].replace(old_name,new_name))\n",
    "                            nodeSet[index][\"refDef\"][j] = refDef\n",
    "                            \n",
    "    return nodeSet\n",
    "\n",
    "# add return to the blank cfv node\n",
    "# if the blank cfv node needs a return variable, the cfv turns to ['{','return','}']\n",
    "# if the blank cfv node doesn`t have a return variable, the cfv turns to ['{',';','}']\n",
    "# parameter: nodeSet -> which contains all the function node\n",
    "def pro_process_blank_cfv(nodeSet):\n",
    "    for i in range(0,len(nodeSet)):\n",
    "        if len(nodeSet[i][\"cfv\"])==0:\n",
    "            #print(nodeSet[i][\"full_definition\"])\n",
    "            if nodeSet[i][\"full_definition\"].startswith(\"void\"):\n",
    "                nodeSet[i][\"cfv\"] = ['{',';','}']\n",
    "            else:\n",
    "                nodeSet[i][\"cfv\"] = ['{','return','}']\n",
    "    return nodeSet"
   ]
  },
  {
   "cell_type": "code",
   "execution_count": 8,
   "metadata": {},
   "outputs": [],
   "source": [
    "csv_reader = csv.reader(open(gpickleCSV,'r'))\n",
    "gpickle_list = []\n",
    "for row in csv_reader:\n",
    "    row[0] = row[0].replace(\"\\\\\",\"/\")\n",
    "    gpickle_list.append(row)\n",
    "\n",
    "del gpickle_list[0]"
   ]
  },
  {
   "cell_type": "code",
   "execution_count": 9,
   "metadata": {},
   "outputs": [],
   "source": [
    "poss_list = []\n",
    "for gpickle in gpickle_list:\n",
    "    if int(gpickle[1]) >= 10 and int(gpickle[2]) >= 10:\n",
    "        poss_list.append(gpickle[0])"
   ]
  },
  {
   "cell_type": "code",
   "execution_count": 10,
   "metadata": {},
   "outputs": [
    {
     "name": "stdout",
     "output_type": "stream",
     "text": [
      "./gpickle/aws-iot-device-sdk-embedded-C_0.gpickle\n"
     ]
    }
   ],
   "source": [
    "FilePath = poss_list[random.randint(0,len(gpickle)-1)]\n",
    "print(FilePath)"
   ]
  },
  {
   "cell_type": "code",
   "execution_count": 12,
   "metadata": {},
   "outputs": [],
   "source": [
    "# =================================== extract function nodes and pre process the nodes ==================================="
   ]
  },
  {
   "cell_type": "code",
   "execution_count": 13,
   "metadata": {},
   "outputs": [],
   "source": [
    "# get the node list from gpickle file \n",
    "extractor = CE.CFV_Extractor(FilePath)\n",
    "nodeSet = extractor.getAllCFV()"
   ]
  },
  {
   "cell_type": "code",
   "execution_count": 14,
   "metadata": {},
   "outputs": [],
   "source": [
    "nodeSet = pre_process_filter(nodeSet)  # pre process for filtering some keywords\n",
    "nodeSet = pre_process_func_name(nodeSet) # pre process for renameing the confilcted functions\n",
    "nodeSet = pro_process_blank_cfv(nodeSet) # pre process for adding content into the blank cfv"
   ]
  },
  {
   "cell_type": "code",
   "execution_count": 15,
   "metadata": {},
   "outputs": [],
   "source": [
    "# =================================== extract function nodes and pre process the nodes ends ==================================="
   ]
  },
  {
   "cell_type": "code",
   "execution_count": 17,
   "metadata": {},
   "outputs": [],
   "source": [
    "# =================================== locate the vul location ==================================="
   ]
  },
  {
   "cell_type": "code",
   "execution_count": 18,
   "metadata": {},
   "outputs": [],
   "source": [
    "# via the customized hyper parameter, find a suitable place for vulnerability\n",
    "locator = VL.Select_Vul_Location(extractor                         # the cfv extrotor\n",
    "                                 ,dataflow_parameter_input_number  # the hyper parameter - input number\n",
    "                                 ,dataflow_parameter_magic_number  # the hyper parameter - magic number\n",
    "                                 ,dataflow_parameter_checksum)     # the hyper parameter - checksum\n",
    "\n",
    "# the vul_path\n",
    "\n",
    "# e.g. vul_path = [0,10,11,12]\n",
    "#      it means that to trige the vulnerability, you have to pass the No.0 node, No.10 node and No.12 node\n",
    "selectedPath = locator.getSelectedPath()\n",
    "\n",
    "# the nest_weight\n",
    "# it should be used with vul_path and the index of the list indicate the index in vul_path\n",
    "\n",
    "# e.g. nest_weight = [2,1,0,1] && vul_path = [0,10,11,12]\n",
    "\n",
    "# the nest_weight[0] = 2 means in the No.0 node (vul_path[0]), we call the No.10 node (vul_path[1]) function in a \n",
    "#   two-level (nest_weight[0] = 2 ) if nest.\n",
    "# the nest_weight[1] = 1 means in the No.10 node (vul_path[1]), we call the No.11 node (vul_path[2]) function in a \n",
    "#   one-level (nest_weight[1] = 1 ) if nest.\n",
    "#  ````````\n",
    "# the nest_weight[3] = 1 means in the No.12 node (vul_path[1]), we trige the vulnerability in a one-level \n",
    "#   (nest_weight[3] = 1) if nest\n",
    "selectedWeight = locator.getSelectedWeight()\n",
    "\n",
    "# the magic_number_weight\n",
    "# it was conducted by hyper parameter maigc number and the nest_weight\n",
    "\n",
    "# e.g. magic_number_weight = [1,1,0,0] && nest_weight = [2,1,0,1]\n",
    "# the magic number weight is based on the nest_weight\n",
    "# magic_number_weight[0] = 1 means in the 2 input checks (nest_weight[0]=2), the 1 of them will become magic number check\n",
    "magicWeight = locator.getMagicNumberWeight()\n",
    "\n",
    "# the checksum_weight\n",
    "# it was conducted by hyper parameter checksum and the nest_weight\n",
    "\n",
    "# e.g. checksum_weight = [1,1,0,0] && magic_number_weight = [2,1,0,1]\n",
    "# the checksum_weight is based on the magic_number_weight\n",
    "# checksum_weight[0] = 1 means in the 2 magic number check (magic_number_weight[0]=2), the 1 of them will become checksum\n",
    "checksumWeight = locator.getChecksumWeight()"
   ]
  },
  {
   "cell_type": "code",
   "execution_count": 19,
   "metadata": {},
   "outputs": [],
   "source": [
    "# test use only\n",
    "# locator.displayOutput()"
   ]
  },
  {
   "cell_type": "code",
   "execution_count": 20,
   "metadata": {},
   "outputs": [],
   "source": [
    "# =================================== locate the vul location Ends ==================================="
   ]
  },
  {
   "cell_type": "code",
   "execution_count": 21,
   "metadata": {},
   "outputs": [],
   "source": [
    "# =================================== vul location marker ==================================="
   ]
  },
  {
   "cell_type": "code",
   "execution_count": 22,
   "metadata": {},
   "outputs": [],
   "source": [
    "# add the dataflow marks into the node list\n",
    "nodeSet = VM.markDataflow(nodeSet,selectedWeight,selectedPath) "
   ]
  },
  {
   "cell_type": "code",
   "execution_count": 23,
   "metadata": {},
   "outputs": [],
   "source": [
    "# change the definition of functions which in dataflow\n",
    "# add a new parameter named 'unique_parameter' to control that there is only one way to trige the vulnerability\n",
    "nodeSet = VM.changeDefinitions(nodeSet,selectedPath)"
   ]
  },
  {
   "cell_type": "code",
   "execution_count": 24,
   "metadata": {},
   "outputs": [],
   "source": [
    "# =================================== vul location marker Ends ==================================="
   ]
  },
  {
   "cell_type": "code",
   "execution_count": 25,
   "metadata": {},
   "outputs": [],
   "source": [
    "# =================================== vul insertion ==================================="
   ]
  },
  {
   "cell_type": "code",
   "execution_count": 26,
   "metadata": {},
   "outputs": [],
   "source": [
    "# get the vul statement from vul lib xml file\n",
    "vul_node = VI.getVulNode(Vul_name,VulLib)\n",
    "# get the variable definition from the xml node\n",
    "vul_definition = VI.getVulDefinition(vul_node) \n",
    "# get the vulnerability statements from the xml node\n",
    "vul_statement,key_index = VI.getVulStatement(vul_node)"
   ]
  },
  {
   "cell_type": "code",
   "execution_count": 27,
   "metadata": {},
   "outputs": [],
   "source": [
    "# get the vul track via the marked node and vulnerability statement\n",
    "vul_track = VI.getVulTrack(nodeSet[selectedPath[-1]][\"cfv\"],  # the marked node (the place to insert the vulnerability)\n",
    "                           vul_statement, # vulnerability satatement \n",
    "                           key_index)     # indicate the key line in statements "
   ]
  },
  {
   "cell_type": "code",
   "execution_count": 28,
   "metadata": {},
   "outputs": [],
   "source": [
    "# use the track to insert the vul code\n",
    "nodeSet[selectedPath[-1]][\"cfv\"] = VI.insertStatementByTrack(vul_track,\n",
    "                                                            nodeSet[selectedPath[-1]][\"cfv\"],\n",
    "                                                            unique_magic_number)\n",
    "# insert the variable definition in the node\n",
    "nodeSet[selectedPath[-1]][\"cfv\"] = VI.insertDefinitions(nodeSet[selectedPath[-1]][\"cfv\"],\n",
    "                                                       vul_definition)"
   ]
  },
  {
   "cell_type": "code",
   "execution_count": 29,
   "metadata": {},
   "outputs": [],
   "source": [
    "# =================================== vul insertion Ends ==================================="
   ]
  },
  {
   "cell_type": "code",
   "execution_count": 30,
   "metadata": {},
   "outputs": [],
   "source": [
    "# =================================== insert function call and controller ==================================="
   ]
  },
  {
   "cell_type": "code",
   "execution_count": 31,
   "metadata": {},
   "outputs": [],
   "source": [
    "# insert the function call\n",
    "nodeSet = FCI.insertFunctionCall(nodeSet,selectedPath,unique_magic_number)"
   ]
  },
  {
   "cell_type": "code",
   "execution_count": 32,
   "metadata": {},
   "outputs": [],
   "source": [
    "number = 0  # the index of magic number weight\n",
    "\n",
    "# from the vul_path, insert the function call, controller and useless controller to function nodes\n",
    "for index in selectedPath:\n",
    "    # get the positions of all keywords in the function node \n",
    "    position = FCI.locateController(nodeSet[index][\"cfv\"])\n",
    "    \n",
    "    # if_list -> there are len(if_list) if conditions in the function\n",
    "    #            each number in if_list the corresponding if condition`s status\n",
    "    # status ->  0  ==  normal input comparison  e.g. ' if( strcmp(controller4vul ,\"abcd\") > 0 ) '\n",
    "    #            1  ==  magic number input comparison  e.g.  ' if( strcmp(controller4vul ,\"abcd\") == 0 ) '\n",
    "    #            2  ==  checksum input comparison   e.g.  ' if(remainder_check(controller4vul , checksum_div, length)) '\n",
    "    if_list = [0]*selectedWeight[number]   \n",
    "    \n",
    "    # ----------- get the magic number list ------------\n",
    "    temp = magicWeight[number]   # temp is used to record the random times\n",
    "    while temp != 0:  \n",
    "        index_magic = random.randint(0,selectedWeight[number]-1)  # randomly pick a if block in the if_list \n",
    "        if  if_list[index_magic] == 0:    # if the randomly picked if block is a normal input comparison\n",
    "            temp-=1                       \n",
    "            if_list[index_magic]+=1       # make the randomly picked if block become a magic number check\n",
    "    # ----------- get the magic number list ends ------------\n",
    "    \n",
    "    # ----------- get the checksum list  ------------\n",
    "    temp = checksumWeight[number] # temp is used to record the random times\n",
    "    while temp != 0:\n",
    "        index_magic = random.randint(0,selectedWeight[number]-1) # randomly pick a if block in the if_list \n",
    "        if  if_list[index_magic] == 1:   # if the randomly picked if block is a magic number input comparison\n",
    "            temp-=1\n",
    "            if_list[index_magic]+=1      # make the randomly picked magic number check become a checksum input comparison\n",
    "    # ----------- get the checksum list ends ------------\n",
    "    \n",
    "    nodeSet[index] = FCI.insertController(nodeSet[index],                               # the function node \n",
    "                                          position,                                     # the keywords positions\n",
    "                                          dataflow_parameter_magic_number_length_min,   # min of the magic number length \n",
    "                                          dataflow_parameter_magic_number_length_max,   # max of the magic number length \n",
    "                                          if_list,                                      # the if block list with status\n",
    "                                          dataflow_parameter_checksum_type,             # the checksum type\n",
    "                                           dataflow_parameter_checksum_div)             # the checksum div (for remainder_check)\n",
    "    \n",
    "    # make if block which is in front of dataflow become useless if block   e.g. ' if(1) '\n",
    "    nodeSet[index][\"cfv\"] = FCI.uselessIfInsertion(nodeSet[index][\"cfv\"])\n",
    "    \n",
    "    number+=1"
   ]
  },
  {
   "cell_type": "code",
   "execution_count": 33,
   "metadata": {},
   "outputs": [],
   "source": [
    "# =================================== insert function call and controller Ends ==================================="
   ]
  },
  {
   "cell_type": "code",
   "execution_count": 34,
   "metadata": {},
   "outputs": [],
   "source": [
    "# =================================== environment key statement insertion generation ==================================="
   ]
  },
  {
   "cell_type": "code",
   "execution_count": 35,
   "metadata": {},
   "outputs": [],
   "source": [
    "# scan the if blocks from environment\n",
    "# ps: the if blocks which have been processed by insert_functionCall_and_controller phase\n",
    "#     so they cannot be found by this function\n",
    "def scanIFinEnvironment(nodeSet):\n",
    "    node_if_numbers = [0] *  len(nodeSet)\n",
    "    for index in range(0,len(nodeSet)):\n",
    "        cfv = nodeSet[index][\"cfv\"]\n",
    "        for i in range(0,len(cfv)):\n",
    "            if cfv[i] == \"if\" or cfv[i] == \"else if\":\n",
    "                node_if_numbers[index] += 1\n",
    "    return node_if_numbers\n",
    "\n",
    "# allocate the weight\n",
    "def allocateNumbers(number_lsit,limit_times):\n",
    "    result_list = [0] * len(number_lsit)\n",
    "    temp = limit_times      # temp is used to record the random times\n",
    "    while temp != 0:\n",
    "        index = random.randint(0,len(number_lsit)-1) # randomly pick a if block in the if_list \n",
    "        if  result_list[index] < number_lsit[index]: # if the randomly picked if block status level is smaller than expected\n",
    "            temp-=1\n",
    "            result_list[index]+=1                    # make the randomly picked if block level up\n",
    "    \n",
    "    return result_list\n",
    "\n",
    "# change the structure\n",
    "# e.g.  source_list [3,0,1]  target_list [1,0,1]\n",
    "#       ouput: result_list [[0,1,0], [], [1]]\n",
    "def changeNumber2List(source_list,target_list):\n",
    "    result_list = []\n",
    "    for i in range(0,len(source_list)):\n",
    "        temp_list = [0] * source_list[i] \n",
    "        limit = target_list[i]  # limit is used to record the random times\n",
    "        while limit != 0:\n",
    "            index = random.randint(0,source_list[i]-1)  # randomly pick a if block in the if_list \n",
    "            if temp_list[index] == 0:                   # if the randomly picked if block is a useless if condition\n",
    "                limit-=1\n",
    "                temp_list[index]+=1                     # make the randomly picked if block level up\n",
    "        result_list.append(temp_list)\n",
    "    return result_list\n",
    "\n",
    "# record the index of if block which is \"level\" status and in if block list\n",
    "def recordBranchIndex(branch_list,level):\n",
    "    result_list = []\n",
    "    for i in range(0,len(branch_list)):\n",
    "        for j in range(0,len(branch_list[i])):\n",
    "            if branch_list[i][j]==level:\n",
    "                result_list.append([i,j])\n",
    "    return result_list\n",
    "\n",
    "# according to the record, add the 'level' status into if block list\n",
    "def addNumberIntoBranch(branch_list,level,limit,record):\n",
    "    result_list = copy.copy(branch_list)\n",
    "    temp_list = [level] * len(record)\n",
    "    \n",
    "    temp = limit\n",
    "    while temp!=0:\n",
    "        index = random.randint(0,len(temp_list)-1)\n",
    "        if temp_list[index]==level:\n",
    "            temp-=1\n",
    "            temp_list[index]+=1\n",
    "    \n",
    "    for index in range(0,len(record)):\n",
    "        result_list[record[index][0]][record[index][1]] = temp_list[index]\n",
    "    \n",
    "    return result_list"
   ]
  },
  {
   "cell_type": "code",
   "execution_count": 36,
   "metadata": {},
   "outputs": [],
   "source": [
    "# scan the if block in environment\n",
    "node_if_numbers = scanIFinEnvironment(nodeSet)\n",
    "\n",
    "# allocate the branches in if block list\n",
    "branch_list = allocateNumbers(node_if_numbers,environment_parameter_branches)\n",
    "\n",
    "# change the branch list structure\n",
    "branch_list = changeNumber2List(node_if_numbers,branch_list)\n",
    "\n",
    "# record the mangic number if block index in branch list\n",
    "record4magic_number = recordBranchIndex(branch_list,1)\n",
    "\n",
    "# according to the magic number record, add the status into the corresponding position in branch list\n",
    "branch_list = addNumberIntoBranch(branch_list,1,environment_parameter_magic_number,record4magic_number)\n",
    "\n",
    "# record the checksum if block index in branch list\n",
    "record4checksum = recordBranchIndex(branch_list,2)\n",
    "\n",
    "# according to the checksum record, add the status into the corresponding position in branch list\n",
    "branch_list = addNumberIntoBranch(branch_list,2,environment_parameter_checksum_number,record4checksum)"
   ]
  },
  {
   "cell_type": "code",
   "execution_count": 37,
   "metadata": {},
   "outputs": [],
   "source": [
    "for index in range(0,len(nodeSet)):\n",
    "    # func_flag -> record that the function node is in vul_path or not\n",
    "    #             1  ==  function node is in vul_path and it needs to be inserted function calls\n",
    "    #             0  ==  function node is not in vul_path and it dones`t need to be inserted function calls\n",
    "    func_flag = 1\n",
    "    if index in selectedPath:\n",
    "        func_flag = 0\n",
    "    # insert the function calls, controllers and loopers in function node\n",
    "    statementInserter = EKSI.StatementInserter(nodeSet[index],                           # the function node\n",
    "                                          environment_paramenter_loop_time,              # loop times\n",
    "                                          branch_list[index],                            # the if status block\n",
    "                                          environment_parameter_magic_number_length_min, # min of maigc number length \n",
    "                                          environment_parameter_magic_number_length_max, # max of maigc number length \n",
    "                                          environment_parameter_checksum_type,           # the checksum type\n",
    "                                          environment_parameter_checksum_div,            # the checksum dividend\n",
    "                                          func_flag)                                     # the function node is in vul_path\n",
    "    # get the processed cfv\n",
    "    nodeSet[index][\"cfv\"] = statementInserter.getCFV()\n",
    "    del statementInserter"
   ]
  },
  {
   "cell_type": "code",
   "execution_count": 38,
   "metadata": {},
   "outputs": [],
   "source": [
    "# =================================== environment key statement insertion generation Ends ==================================="
   ]
  },
  {
   "cell_type": "code",
   "execution_count": 39,
   "metadata": {},
   "outputs": [],
   "source": [
    "# =================================== environment code generation ==================================="
   ]
  },
  {
   "cell_type": "code",
   "execution_count": 40,
   "metadata": {},
   "outputs": [],
   "source": [
    "# insert the normal code expressions into each function node\n",
    "for index in range(0,len(nodeSet)):\n",
    "    generator = ECG.CodeGenerator(GrammarTree,         # the GrammarTree xml file path\n",
    "                                  nodeSet,             # the whole function nodes\n",
    "                                  index,               # the index of target function node\n",
    "                                  selectedPath,        # the vul_path\n",
    "                                  unique_magic_number) # the number to keep vulerable dataflow unique\n",
    "    nodeSet[index][\"cfv\"] = generator.getCFV()"
   ]
  },
  {
   "cell_type": "code",
   "execution_count": 41,
   "metadata": {},
   "outputs": [],
   "source": [
    "# =================================== environment code generation Ends ==================================="
   ]
  },
  {
   "cell_type": "code",
   "execution_count": 42,
   "metadata": {},
   "outputs": [],
   "source": [
    "# =================================== formalization ==================================="
   ]
  },
  {
   "cell_type": "code",
   "execution_count": 43,
   "metadata": {},
   "outputs": [],
   "source": [
    "# parse the gpickle file path then generate the track txt file path\n",
    "trackPath = \"\"\n",
    "if \"/\" in FilePath:\n",
    "    filename = FilePath.split(\"/\")[-1].split(\".\")[0]\n",
    "    trackPath = \"./dataset/\"+filename +\".txt\"\n",
    "    \n",
    "with open(trackPath,\"w\",encoding=\"utf-8\") as f:\n",
    "    f.truncate()\n",
    "    \n",
    "    # write the track\n",
    "    track = Formal.getTrackContent(selectedPath,nodeSet)\n",
    "    f.write(track)\n",
    "    \n",
    "    # write the dataflow and environment parameters\n",
    "    parameter_content = getParameters()\n",
    "    f.write(parameter_content)\n"
   ]
  },
  {
   "cell_type": "code",
   "execution_count": 44,
   "metadata": {},
   "outputs": [],
   "source": [
    "# clean the vulnerability mark in the function node which is the last one in vul_path\n",
    "nodeSet[selectedPath[-1]][\"cfv\"] = Formal.cleanVulMark(nodeSet[selectedPath[-1]][\"cfv\"])\n",
    "# add the uni_para claim statement into main function node\n",
    "nodeSet[0][\"cfv\"].insert(1,\"int uni_para =\"+str(unique_magic_number)+\";\")"
   ]
  },
  {
   "cell_type": "code",
   "execution_count": 45,
   "metadata": {},
   "outputs": [],
   "source": [
    "# parse the gpickle file path then generate the C file path\n",
    "CPath = \"\"\n",
    "if \"/\" in FilePath:\n",
    "    filename = FilePath.split(\"/\")[-1].split(\".\")[0]\n",
    "    CPath = \"./dataset/\"+filename +\".c\"\n",
    "    \n",
    "# write the C codes into C file\n",
    "with open(CPath,\"w\",encoding=\"utf-8\") as f:\n",
    "    f.truncate()\n",
    "    \n",
    "    # get the header infomation\n",
    "    #    ->  the includings  e.g.  #include<stdio.h>\n",
    "    header_content = Formal.header4program(GrammarTree,vul_node)\n",
    "    f.write(header_content)\n",
    "    \n",
    "    # write the checksum function claim and fucntion body\n",
    "    checksum = Formal.switchForChecksum(dataflow_parameter_checksum_type)\n",
    "    f.write(checksum[0])\n",
    "    f.write(checksum[1])\n",
    "    if dataflow_parameter_checksum_type != environment_parameter_checksum_type:\n",
    "        checksum = Formal.switchForChecksum(environment_parameter_checksum_type)\n",
    "        f.write(checksum[0])\n",
    "        f.write(checksum[1])\n",
    "    \n",
    "    # write all functions claim \n",
    "    # main function doesn`t need a claim so it`s range(len(nodeSet-1),0,-1) not range(len(nodeSet-1),-1,-1)\n",
    "    for index in range(len(nodeSet)-1,0,-1):\n",
    "        definition = Formal.Definition2Code(nodeSet,index)+\";\\n\"\n",
    "        f.write(definition)\n",
    "    \n",
    "    # write all functions body\n",
    "    for index in range(len(nodeSet)-1,-1,-1):\n",
    "        content = Formal.Node2Code(nodeSet,index)\n",
    "        f.write(content)"
   ]
  },
  {
   "cell_type": "code",
   "execution_count": 46,
   "metadata": {},
   "outputs": [],
   "source": [
    "# =================================== formalization Ends ==================================="
   ]
  }
 ],
 "metadata": {
  "kernelspec": {
   "display_name": "Python 3",
   "language": "python",
   "name": "python3"
  },
  "language_info": {
   "codemirror_mode": {
    "name": "ipython",
    "version": 3
   },
   "file_extension": ".py",
   "mimetype": "text/x-python",
   "name": "python",
   "nbconvert_exporter": "python",
   "pygments_lexer": "ipython3",
   "version": "3.7.0"
  }
 },
 "nbformat": 4,
 "nbformat_minor": 2
}
